{
  "cells": [
    {
      "cell_type": "markdown",
      "metadata": {
        "id": "view-in-github",
        "colab_type": "text"
      },
      "source": [
        "<a href=\"https://colab.research.google.com/github/JSJeong-me/GPT-Finetuning/blob/main/50-Gradio.ipynb\" target=\"_parent\"><img src=\"https://colab.research.google.com/assets/colab-badge.svg\" alt=\"Open In Colab\"/></a>"
      ]
    },
    {
      "cell_type": "code",
      "execution_count": null,
      "id": "762dcb32-cafa-4f6a-861f-930281fb13ce",
      "metadata": {
        "id": "762dcb32-cafa-4f6a-861f-930281fb13ce"
      },
      "outputs": [],
      "source": [
        "!pip install gradio"
      ]
    },
    {
      "cell_type": "code",
      "execution_count": 1,
      "id": "c7e04382-aa2f-4399-bb75-d624cc425a3c",
      "metadata": {
        "id": "c7e04382-aa2f-4399-bb75-d624cc425a3c"
      },
      "outputs": [],
      "source": [
        "import gradio as gr\n",
        "\n",
        "# 인터페이스에서 이벤트가 발생되면 실행되는 함수\n",
        "def greet(name):\n",
        "    return \"안녕하세요 \" + name + \"선생님!\""
      ]
    },
    {
      "cell_type": "code",
      "source": [
        "# gr.Interface(fn=greet, inputs=\"text\", outputs=\"text\").launch(server_name='0.0.0.0')"
      ],
      "metadata": {
        "id": "6XcP2LuHeVJS"
      },
      "id": "6XcP2LuHeVJS",
      "execution_count": null,
      "outputs": []
    },
    {
      "cell_type": "code",
      "source": [
        "# inputs로 TextBox 타입의 컴포넌트, outputs로 TextBox 타입의 컴포넌트가 하나씩 적용\n",
        "demo = gr.Interface(fn=greet, inputs=\"text\", outputs=\"text\")"
      ],
      "metadata": {
        "id": "zpBhUq-BeHGp"
      },
      "id": "zpBhUq-BeHGp",
      "execution_count": 2,
      "outputs": []
    },
    {
      "cell_type": "code",
      "source": [
        "# demo.launch(server_name='0.0.0.0')"
      ],
      "metadata": {
        "id": "AjqCygaPe8B2"
      },
      "id": "AjqCygaPe8B2",
      "execution_count": null,
      "outputs": []
    },
    {
      "cell_type": "code",
      "source": [],
      "metadata": {
        "id": "SZpOrJigfaBx"
      },
      "id": "SZpOrJigfaBx",
      "execution_count": null,
      "outputs": []
    },
    {
      "cell_type": "code",
      "source": [
        "\n",
        "\n",
        "# 서버 어플리케이션은 모든 네트워크 인터페이스에 바인딩한다\n",
        "demo.launch(server_name='0.0.0.0')"
      ],
      "metadata": {
        "id": "-l9Yby8we68V"
      },
      "id": "-l9Yby8we68V",
      "execution_count": null,
      "outputs": []
    },
    {
      "cell_type": "code",
      "source": [],
      "metadata": {
        "id": "2mtkKc5VfYV_"
      },
      "id": "2mtkKc5VfYV_",
      "execution_count": null,
      "outputs": []
    },
    {
      "cell_type": "code",
      "execution_count": 1,
      "id": "2253bffc-37b2-4af9-80ee-c3148746a76a",
      "metadata": {
        "id": "2253bffc-37b2-4af9-80ee-c3148746a76a",
        "colab": {
          "base_uri": "https://localhost:8080/",
          "height": 652
        },
        "outputId": "e17862e6-e0ee-4872-926c-05013c36e671"
      },
      "outputs": [
        {
          "output_type": "stream",
          "name": "stdout",
          "text": [
            "It looks like you are running Gradio on a hosted a Jupyter notebook. For the Gradio app to work, sharing must be enabled. Automatically setting `share=True` (you can turn this off by setting `share=False` in `launch()` explicitly).\n",
            "\n",
            "Colab notebook detected. To show errors in colab notebook, set debug=True in launch()\n",
            "* Running on public URL: https://a0a560a2d1164f6ca2.gradio.live\n",
            "\n",
            "This share link expires in 1 week. For free permanent hosting and GPU upgrades, run `gradio deploy` from the terminal in the working directory to deploy to Hugging Face Spaces (https://huggingface.co/spaces)\n"
          ]
        },
        {
          "output_type": "display_data",
          "data": {
            "text/plain": [
              "<IPython.core.display.HTML object>"
            ],
            "text/html": [
              "<div><iframe src=\"https://a0a560a2d1164f6ca2.gradio.live\" width=\"100%\" height=\"500\" allow=\"autoplay; camera; microphone; clipboard-read; clipboard-write;\" frameborder=\"0\" allowfullscreen></iframe></div>"
            ]
          },
          "metadata": {}
        },
        {
          "output_type": "execute_result",
          "data": {
            "text/plain": []
          },
          "metadata": {},
          "execution_count": 1
        }
      ],
      "source": [
        "import gradio as gr\n",
        "\n",
        "def greet(name):\n",
        "    return \"안녕하세요 \" + name + \"선생님!\"\n",
        "\n",
        "demo = gr.Interface(\n",
        "    fn=greet,\n",
        "    inputs=gr.Textbox(lines=1, placeholder=\"여기에 이름을 쓰세요.\"), # TextBox의 속성을 변경\n",
        "    outputs=\"text\",\n",
        ")\n",
        "\n",
        "demo.launch(server_name='0.0.0.0')"
      ]
    },
    {
      "cell_type": "code",
      "execution_count": 1,
      "id": "d95e201c-a3c6-4803-a96c-5fa26aab9414",
      "metadata": {
        "id": "d95e201c-a3c6-4803-a96c-5fa26aab9414"
      },
      "outputs": [],
      "source": [
        "import gradio as gr"
      ]
    },
    {
      "cell_type": "code",
      "source": [
        "# 여기서의 input이 인터페이스의 input(순서대로)\n",
        "def greet(name, is_morning, temperature):\n",
        "    salutation = \"좋은 아침입니다\" if is_morning else \"좋은 저녁입니다\"\n",
        "    greeting = f\"{salutation} {name}선생님. 오늘은 섭씨 {temperature}도입니다.\"\n",
        "    fahrenheit = (temperature - 32) * 5 / 9\n",
        "    return greeting, (temperature * 9 / 5) + 32"
      ],
      "metadata": {
        "id": "euyPB0JbjcG1"
      },
      "id": "euyPB0JbjcG1",
      "execution_count": 2,
      "outputs": []
    },
    {
      "cell_type": "code",
      "source": [
        "# 리턴은 인터페이스의 output(순서대로)\n",
        "\n",
        "demo = gr.Interface(\n",
        "    fn=greet,\n",
        "    inputs=[\"text\", \"checkbox\", gr.Slider(0, 100)],\n",
        "    outputs=[\"text\", \"number\"],\n",
        ")"
      ],
      "metadata": {
        "id": "2PaNn-y3jfEU"
      },
      "id": "2PaNn-y3jfEU",
      "execution_count": 3,
      "outputs": []
    },
    {
      "cell_type": "code",
      "source": [
        "demo.launch(server_name='0.0.0.0')\n"
      ],
      "metadata": {
        "id": "PrrqCMm_jurf"
      },
      "id": "PrrqCMm_jurf",
      "execution_count": null,
      "outputs": []
    },
    {
      "cell_type": "markdown",
      "source": [
        "## ChatGPT 작품"
      ],
      "metadata": {
        "id": "ifIEwaMilPaM"
      },
      "id": "ifIEwaMilPaM"
    },
    {
      "cell_type": "code",
      "source": [
        "import gradio as gr\n",
        "\n",
        "def custom_func(name, is_morning, temperature):\n",
        "    # 예시: 입력값들을 각각 출력\n",
        "    greeting = f\"Good morning, {name}!\" if is_morning else f\"Hello, {name}!\"\n",
        "    return greeting, temperature\n",
        "\n",
        "with gr.Blocks() as demo:\n",
        "    with gr.Row():\n",
        "        with gr.Column():\n",
        "            name = gr.Textbox(label=\"name\")\n",
        "            is_morning = gr.Checkbox(label=\"is_morning\")\n",
        "            temperature = gr.Slider(0, 100, step=1, label=\"temperature\")\n",
        "            clear_btn = gr.Button(\"Clear\")\n",
        "            submit_btn = gr.Button(\"Submit\", variant=\"primary\")\n",
        "        with gr.Column():\n",
        "            output0 = gr.Textbox(label=\"output 0\")\n",
        "            output1 = gr.Textbox(label=\"output 1\", value=\"0\")\n",
        "            flag_btn = gr.Button(\"Flag\")\n",
        "\n",
        "    # 버튼 동작\n",
        "    submit_btn.click(\n",
        "        custom_func,\n",
        "        inputs=[name, is_morning, temperature],\n",
        "        outputs=[output0, output1]\n",
        "    )\n",
        "    clear_btn.click(\n",
        "        lambda: (\"\", \"\", 0),  # 입력값 초기화\n",
        "        inputs=[],\n",
        "        outputs=[name, is_morning, temperature]\n",
        "    )\n",
        "\n",
        "demo.launch()"
      ],
      "metadata": {
        "id": "gWlbigoolPCY"
      },
      "id": "gWlbigoolPCY",
      "execution_count": null,
      "outputs": []
    },
    {
      "cell_type": "markdown",
      "source": [
        "## ChatGPT 2번째 작품"
      ],
      "metadata": {
        "id": "Mdy_tC2sm5yl"
      },
      "id": "Mdy_tC2sm5yl"
    },
    {
      "cell_type": "code",
      "source": [
        "import gradio as gr\n",
        "\n",
        "def custom_func(name, is_morning, temperature):\n",
        "    # 출력 0: 인삿말\n",
        "    greeting = f\"Good morning, {name}!\" if is_morning else f\"Hello, {name}!\"\n",
        "    # 출력 1: 섭씨 -> 화씨 변환\n",
        "    fahrenheit = temperature * 9 / 5 + 32\n",
        "    return greeting, str(fahrenheit)\n",
        "\n",
        "with gr.Blocks() as demo:\n",
        "    with gr.Row():\n",
        "        with gr.Column():\n",
        "            name = gr.Textbox(label=\"name\")\n",
        "            is_morning = gr.Checkbox(label=\"is_morning\")\n",
        "            temperature = gr.Slider(0, 100, step=1, label=\"temperature\")\n",
        "            clear_btn = gr.Button(\"Clear\")\n",
        "            submit_btn = gr.Button(\"Submit\", variant=\"primary\")\n",
        "        with gr.Column():\n",
        "            output0 = gr.Textbox(label=\"output 0\")\n",
        "            output1 = gr.Textbox(label=\"output 1\", value=\"0\")\n",
        "            flag_btn = gr.Button(\"Flag\")\n",
        "\n",
        "    # Submit 버튼: 결과 출력\n",
        "    submit_btn.click(\n",
        "        custom_func,\n",
        "        inputs=[name, is_morning, temperature],\n",
        "        outputs=[output0, output1]\n",
        "    )\n",
        "    # Clear 버튼: 입력값 초기화\n",
        "    clear_btn.click(\n",
        "        lambda: (\"\", False, 0),  # 이름, is_morning, 온도 초기화\n",
        "        inputs=[],\n",
        "        outputs=[name, is_morning, temperature]\n",
        "    )\n",
        "\n",
        "demo.launch()\n"
      ],
      "metadata": {
        "id": "NvZYDCp-m5b6"
      },
      "id": "NvZYDCp-m5b6",
      "execution_count": null,
      "outputs": []
    },
    {
      "cell_type": "code",
      "execution_count": 1,
      "id": "768151f7-4ef4-461d-a969-806aa0c11fd0",
      "metadata": {
        "id": "768151f7-4ef4-461d-a969-806aa0c11fd0"
      },
      "outputs": [],
      "source": [
        "import numpy as np\n",
        "import gradio as gr"
      ]
    },
    {
      "cell_type": "code",
      "source": [
        "def sepia(input_img):\n",
        "    edge_detect_filter = np.array([\n",
        "    [-1, -1, -1],\n",
        "    [-1,  8, -1],\n",
        "    [-1, -1, -1]\n",
        "])\n",
        "    sepia_img = input_img.dot(edge_detect_filter)\n",
        "    sepia_img /= sepia_img.max()\n",
        "    return sepia_img\n",
        "\n",
        "# gr.Image는 이미지만 전문으로 입력 또는 출력하는 컴포넌트\n",
        "demo = gr.Interface(sepia, gr.Image(), \"image\")\n",
        "demo.launch(server_name='0.0.0.0')"
      ],
      "metadata": {
        "id": "z_vXu19goKe7"
      },
      "id": "z_vXu19goKe7",
      "execution_count": 2,
      "outputs": []
    },
    {
      "cell_type": "markdown",
      "source": [
        "## ChatGPT 3번째 작품"
      ],
      "metadata": {
        "id": "n6SQO0f0quJ2"
      },
      "id": "n6SQO0f0quJ2"
    },
    {
      "cell_type": "code",
      "source": [
        "import gradio as gr\n",
        "import numpy as np\n",
        "from PIL import Image\n",
        "from scipy.ndimage import convolve\n",
        "\n",
        "def edge_detect_onoff(image, threshold=128):\n",
        "    if image is None:\n",
        "        return None\n",
        "\n",
        "    # 1. 그레이스케일 변환\n",
        "    gray = image.convert(\"L\")  # 0~255 단일 채널\n",
        "\n",
        "    # 2. 바이너리 변환 (on/off)\n",
        "    np_gray = np.array(gray)\n",
        "    binary = np.where(np_gray > threshold, 255, 0).astype(np.uint8)\n",
        "\n",
        "    # 3. 엣지 디텍트 필터\n",
        "    edge_filter = np.array([\n",
        "        [-1, -1, -1],\n",
        "        [-1,  8, -1],\n",
        "        [-1, -1, -1]\n",
        "    ])\n",
        "    edges = convolve(binary, edge_filter)\n",
        "    edges = np.clip(edges, 0, 255).astype(np.uint8)\n",
        "\n",
        "    # 4. 결과를 PIL 이미지로 변환\n",
        "    return Image.fromarray(edges)\n",
        "\n",
        "demo = gr.Interface(\n",
        "    fn=edge_detect_onoff,\n",
        "    inputs=gr.Image(type=\"pil\", label=\"원본 이미지 업로드\"),\n",
        "    outputs=gr.Image(type=\"pil\", label=\"Edge Detected (On/Off) Image\"),\n",
        "    title=\"Edge Detect (On/Off) Gradio Demo\",\n",
        "    description=\"입력 이미지를 흑백 on/off(바이너리)로 변환 후 edge detection 결과를 보여줍니다.\"\n",
        ")\n",
        "\n",
        "demo.launch(server_name='0.0.0.0')\n"
      ],
      "metadata": {
        "id": "HZ17UUcEtakY",
        "outputId": "33ece298-143e-4d3b-f86a-71850a53097a",
        "colab": {
          "base_uri": "https://localhost:8080/",
          "height": 652
        }
      },
      "id": "HZ17UUcEtakY",
      "execution_count": 1,
      "outputs": [
        {
          "output_type": "stream",
          "name": "stdout",
          "text": [
            "It looks like you are running Gradio on a hosted a Jupyter notebook. For the Gradio app to work, sharing must be enabled. Automatically setting `share=True` (you can turn this off by setting `share=False` in `launch()` explicitly).\n",
            "\n",
            "Colab notebook detected. To show errors in colab notebook, set debug=True in launch()\n",
            "* Running on public URL: https://436f474371d37fa2a5.gradio.live\n",
            "\n",
            "This share link expires in 1 week. For free permanent hosting and GPU upgrades, run `gradio deploy` from the terminal in the working directory to deploy to Hugging Face Spaces (https://huggingface.co/spaces)\n"
          ]
        },
        {
          "output_type": "display_data",
          "data": {
            "text/plain": [
              "<IPython.core.display.HTML object>"
            ],
            "text/html": [
              "<div><iframe src=\"https://436f474371d37fa2a5.gradio.live\" width=\"100%\" height=\"500\" allow=\"autoplay; camera; microphone; clipboard-read; clipboard-write;\" frameborder=\"0\" allowfullscreen></iframe></div>"
            ]
          },
          "metadata": {}
        },
        {
          "output_type": "execute_result",
          "data": {
            "text/plain": []
          },
          "metadata": {},
          "execution_count": 1
        }
      ]
    },
    {
      "cell_type": "code",
      "source": [
        "import gradio as gr\n",
        "import numpy as np\n",
        "from PIL import Image\n",
        "from scipy.ndimage import convolve\n",
        "\n",
        "def edge_detect(image):\n",
        "    # 이미지가 None이면 바로 반환\n",
        "    if image is None:\n",
        "        return None\n",
        "\n",
        "    # Gradio에서 입력된 이미지는 PIL.Image 또는 numpy.ndarray\n",
        "    if isinstance(image, Image.Image):\n",
        "        img_np = np.array(image.convert(\"RGB\"))\n",
        "    elif isinstance(image, np.ndarray):\n",
        "        img_np = image\n",
        "    else:\n",
        "        raise ValueError(\"Unsupported image type\")\n",
        "\n",
        "    # 엣지 디텍트 필터 정의\n",
        "    edge_filter = np.array([\n",
        "        [-1, -1, -1],\n",
        "        [-1,  8, -1],\n",
        "        [-1, -1, -1]\n",
        "    ])\n",
        "\n",
        "    # 각 채널별로 엣지 필터 적용\n",
        "    result = np.zeros_like(img_np)\n",
        "    for c in range(3):\n",
        "        result[..., c] = convolve(img_np[..., c], edge_filter)\n",
        "    result = np.clip(result, 0, 255).astype(np.uint8)\n",
        "\n",
        "    # numpy array -> PIL Image로 변환\n",
        "    return Image.fromarray(result)\n",
        "\n",
        "demo = gr.Interface(\n",
        "    fn=edge_detect,\n",
        "    inputs=gr.Image(type=\"pil\", label=\"원본 이미지 업로드\"),\n",
        "    outputs=gr.Image(type=\"pil\", label=\"Edge Detected Image\"),\n",
        "    title=\"Edge Detect Gradio Demo\",\n",
        "    description=\"이미지를 업로드하면 Edge Detection 결과를 보여줍니다.\"\n",
        ")\n",
        "\n",
        "demo.launch(server_name='0.0.0.0')"
      ],
      "metadata": {
        "id": "kGcrKLWNs1t1",
        "outputId": "9efced65-fcc3-4cf2-9f55-60c8908276c5",
        "colab": {
          "base_uri": "https://localhost:8080/",
          "height": 652
        }
      },
      "id": "kGcrKLWNs1t1",
      "execution_count": 1,
      "outputs": [
        {
          "output_type": "stream",
          "name": "stdout",
          "text": [
            "It looks like you are running Gradio on a hosted a Jupyter notebook. For the Gradio app to work, sharing must be enabled. Automatically setting `share=True` (you can turn this off by setting `share=False` in `launch()` explicitly).\n",
            "\n",
            "Colab notebook detected. To show errors in colab notebook, set debug=True in launch()\n",
            "* Running on public URL: https://2b9a05a546fef2a0e9.gradio.live\n",
            "\n",
            "This share link expires in 1 week. For free permanent hosting and GPU upgrades, run `gradio deploy` from the terminal in the working directory to deploy to Hugging Face Spaces (https://huggingface.co/spaces)\n"
          ]
        },
        {
          "output_type": "display_data",
          "data": {
            "text/plain": [
              "<IPython.core.display.HTML object>"
            ],
            "text/html": [
              "<div><iframe src=\"https://2b9a05a546fef2a0e9.gradio.live\" width=\"100%\" height=\"500\" allow=\"autoplay; camera; microphone; clipboard-read; clipboard-write;\" frameborder=\"0\" allowfullscreen></iframe></div>"
            ]
          },
          "metadata": {}
        },
        {
          "output_type": "execute_result",
          "data": {
            "text/plain": []
          },
          "metadata": {},
          "execution_count": 1
        }
      ]
    },
    {
      "cell_type": "code",
      "source": [
        "import gradio as gr\n",
        "import numpy as np\n",
        "from PIL import Image\n",
        "from scipy.ndimage import convolve\n",
        "import os\n",
        "\n",
        "def edge_detect(input_img_path):\n",
        "    # 파일 확장자 구분\n",
        "    _, ext = os.path.splitext(input_img_path)\n",
        "    ext = ext.lower()\n",
        "\n",
        "    # 이미지 읽기 (RGB로 통일)\n",
        "    img = Image.open(input_img_path).convert(\"RGB\")\n",
        "    img_np = np.array(img)\n",
        "\n",
        "    # 파일 타입에 따라 분기 처리\n",
        "    if ext in ['.png']:\n",
        "        # png 파일이면: 예시 - Edge Detect + 반전(invert) 추가\n",
        "        processed_img = edge_detect_filter(img_np)\n",
        "        processed_img = 255 - processed_img   # 색 반전(예시)\n",
        "    elif ext in ['.jpg', '.jpeg']:\n",
        "        # jpg/jpeg 파일이면: 예시 - Edge Detect만 적용\n",
        "        processed_img = edge_detect_filter(img_np)\n",
        "    else:\n",
        "        # 기타 확장자: 그냥 Edge Detect만 적용\n",
        "        processed_img = edge_detect_filter(img_np)\n",
        "\n",
        "    return processed_img\n",
        "\n",
        "def edge_detect_filter(input_img):\n",
        "    edge_filter = np.array([\n",
        "        [-1, -1, -1],\n",
        "        [-1,  8, -1],\n",
        "        [-1, -1, -1]\n",
        "    ])\n",
        "    if input_img.ndim == 3 and input_img.shape[2] == 3:\n",
        "        result = np.zeros_like(input_img)\n",
        "        for c in range(3):\n",
        "            result[..., c] = convolve(input_img[..., c], edge_filter)\n",
        "        result = np.clip(result, 0, 255).astype(np.uint8)\n",
        "    else:\n",
        "        result = convolve(input_img, edge_filter)\n",
        "        result = np.clip(result, 0, 255).astype(np.uint8)\n",
        "    return result\n",
        "\n",
        "demo = gr.Interface(\n",
        "    fn=edge_detect,\n",
        "    inputs=gr.Image(type=\"filepath\"),      # 파일 경로로 입력\n",
        "    outputs=gr.Image(type=\"numpy\"),        # 이미지로 출력\n",
        "    title=\"Edge Detect: PNG/JPG Handling Demo\",\n",
        "    description=\"Upload a PNG or JPG image. PNG will be edge-detected and inverted, JPG will be edge-detected only.\"\n",
        ")\n",
        "\n",
        "demo.launch(server_name='0.0.0.0')"
      ],
      "metadata": {
        "id": "PsIEffm_rwz6",
        "outputId": "a3680bde-b27e-4965-f900-8930aee2680d",
        "colab": {
          "base_uri": "https://localhost:8080/",
          "height": 652
        }
      },
      "id": "PsIEffm_rwz6",
      "execution_count": 1,
      "outputs": [
        {
          "output_type": "stream",
          "name": "stdout",
          "text": [
            "It looks like you are running Gradio on a hosted a Jupyter notebook. For the Gradio app to work, sharing must be enabled. Automatically setting `share=True` (you can turn this off by setting `share=False` in `launch()` explicitly).\n",
            "\n",
            "Colab notebook detected. To show errors in colab notebook, set debug=True in launch()\n",
            "* Running on public URL: https://7fbedd3441ab77c9a7.gradio.live\n",
            "\n",
            "This share link expires in 1 week. For free permanent hosting and GPU upgrades, run `gradio deploy` from the terminal in the working directory to deploy to Hugging Face Spaces (https://huggingface.co/spaces)\n"
          ]
        },
        {
          "output_type": "display_data",
          "data": {
            "text/plain": [
              "<IPython.core.display.HTML object>"
            ],
            "text/html": [
              "<div><iframe src=\"https://7fbedd3441ab77c9a7.gradio.live\" width=\"100%\" height=\"500\" allow=\"autoplay; camera; microphone; clipboard-read; clipboard-write;\" frameborder=\"0\" allowfullscreen></iframe></div>"
            ]
          },
          "metadata": {}
        },
        {
          "output_type": "execute_result",
          "data": {
            "text/plain": []
          },
          "metadata": {},
          "execution_count": 1
        }
      ]
    },
    {
      "cell_type": "code",
      "source": [],
      "metadata": {
        "id": "NqQWFX36oVX0",
        "outputId": "6f809452-2a7c-432e-f08c-d59e60923514",
        "colab": {
          "base_uri": "https://localhost:8080/",
          "height": 652
        }
      },
      "id": "NqQWFX36oVX0",
      "execution_count": 4,
      "outputs": [
        {
          "output_type": "stream",
          "name": "stdout",
          "text": [
            "It looks like you are running Gradio on a hosted a Jupyter notebook. For the Gradio app to work, sharing must be enabled. Automatically setting `share=True` (you can turn this off by setting `share=False` in `launch()` explicitly).\n",
            "\n",
            "Colab notebook detected. To show errors in colab notebook, set debug=True in launch()\n",
            "* Running on public URL: https://68465b07efa95ff012.gradio.live\n",
            "\n",
            "This share link expires in 1 week. For free permanent hosting and GPU upgrades, run `gradio deploy` from the terminal in the working directory to deploy to Hugging Face Spaces (https://huggingface.co/spaces)\n"
          ]
        },
        {
          "output_type": "display_data",
          "data": {
            "text/plain": [
              "<IPython.core.display.HTML object>"
            ],
            "text/html": [
              "<div><iframe src=\"https://68465b07efa95ff012.gradio.live\" width=\"100%\" height=\"500\" allow=\"autoplay; camera; microphone; clipboard-read; clipboard-write;\" frameborder=\"0\" allowfullscreen></iframe></div>"
            ]
          },
          "metadata": {}
        },
        {
          "output_type": "execute_result",
          "data": {
            "text/plain": []
          },
          "metadata": {},
          "execution_count": 4
        }
      ]
    },
    {
      "cell_type": "code",
      "execution_count": null,
      "id": "91d11822-b170-4b45-8a8b-770f3b342ccd",
      "metadata": {
        "id": "91d11822-b170-4b45-8a8b-770f3b342ccd"
      },
      "outputs": [],
      "source": [
        "import random\n",
        "import gradio as gr\n",
        "\n",
        "def random_response(message, history):\n",
        "    return random.choice([\"네\", \"아니오\"])\n",
        "\n",
        "demo = gr.ChatInterface(random_response)\n",
        "\n",
        "# 히스토리 관리까지 해주는 신규 컴포넌트(gradio가 최신버전으로 업그레이드 되어야 함)\n",
        "# Interface 또는 ChatInterface 둘중 택일(Blocks를 쓰지 않는 경우, 정형화된 입력)\n",
        "demo.launch(server_name='0.0.0.0')"
      ]
    },
    {
      "cell_type": "code",
      "execution_count": null,
      "id": "edc51db6-d22b-4b96-ae0b-65e4e1d9463f",
      "metadata": {
        "id": "edc51db6-d22b-4b96-ae0b-65e4e1d9463f"
      },
      "outputs": [],
      "source": [
        "import gradio as gr\n",
        "\n",
        "def greet(name):\n",
        "    return \"안녕하세요 \" + name + \"씨!\"\n",
        "\n",
        "with gr.Blocks() as demo:\n",
        "    name = gr.Textbox(label=\"Name\")\n",
        "    output = gr.Textbox(label=\"Output Box\")\n",
        "    greet_btn = gr.Button(\"Greet\")\n",
        "    greet_btn.click(fn=greet, inputs=name, outputs=output, api_name=\"greet\")\n",
        "\n",
        "demo.launch(server_name='0.0.0.0')"
      ]
    },
    {
      "cell_type": "code",
      "execution_count": null,
      "id": "ca12edf8-77fe-40d0-87df-1176a885e436",
      "metadata": {
        "id": "ca12edf8-77fe-40d0-87df-1176a885e436"
      },
      "outputs": [],
      "source": [
        "import numpy as np\n",
        "import gradio as gr\n",
        "\n",
        "\n",
        "def flip_text(x):\n",
        "    return x[::-1]\n",
        "\n",
        "\n",
        "def flip_image(x):\n",
        "    return np.fliplr(x)\n",
        "\n",
        "\n",
        "with gr.Blocks() as demo:\n",
        "    gr.Markdown(\"Flip text or image files using this demo.\")\n",
        "    with gr.Tab(\"Flip Text\"):\n",
        "        text_input = gr.Textbox()\n",
        "        text_output = gr.Textbox()\n",
        "        text_button = gr.Button(\"Flip\")\n",
        "    with gr.Tab(\"Flip Image\"):\n",
        "        with gr.Row():\n",
        "            image_input = gr.Image()\n",
        "            image_output = gr.Image()\n",
        "        image_button = gr.Button(\"Flip\")\n",
        "\n",
        "    with gr.Accordion(\"Open for More!\"):\n",
        "        gr.Markdown(\"Look at me...\")\n",
        "\n",
        "    text_button.click(flip_text, inputs=text_input, outputs=text_output)\n",
        "    image_button.click(flip_image, inputs=image_input, outputs=image_output)\n",
        "\n",
        "demo.launch(server_name='0.0.0.0')\n"
      ]
    },
    {
      "cell_type": "code",
      "execution_count": null,
      "id": "cbbfbce7-eab0-4a7f-b247-07d6d038cb9f",
      "metadata": {
        "id": "cbbfbce7-eab0-4a7f-b247-07d6d038cb9f"
      },
      "outputs": [],
      "source": [
        "import gradio as gr\n",
        "\n",
        "def calculator(num1, operation, num2):\n",
        "    if operation == \"add\":\n",
        "        return num1 + num2\n",
        "    elif operation == \"subtract\":\n",
        "        return num1 - num2\n",
        "    elif operation == \"multiply\":\n",
        "        return num1 * num2\n",
        "    elif operation == \"divide\":\n",
        "        if num2 == 0:\n",
        "            raise gr.Error(\"Cannot divide by zero!\")\n",
        "        return num1 / num2\n",
        "\n",
        "# 함수, inputs, outputs, 그외 example도 간단하게 추가 가능\n",
        "\n",
        "demo = gr.Interface(\n",
        "    calculator,\n",
        "    [\n",
        "        \"number\",\n",
        "        gr.Radio([\"add\", \"subtract\", \"multiply\", \"divide\"]),\n",
        "        \"number\"\n",
        "    ],\n",
        "    \"number\",\n",
        "    examples=[\n",
        "        [5, \"add\", 3],\n",
        "        [4, \"divide\", 2],\n",
        "        [-4, \"multiply\", 2.5],\n",
        "        [0, \"subtract\", 1.2],\n",
        "    ],\n",
        "    title=\"Toy Calculator\",\n",
        "    description=\"Here's a sample toy calculator. Allows you to calculate things like $2+2=4$\",\n",
        ")\n",
        "\n",
        "demo.launch(server_name='0.0.0.0')\n"
      ]
    },
    {
      "cell_type": "code",
      "execution_count": null,
      "id": "3e5ae18d-6dd8-4cf3-9355-2ed2103225bc",
      "metadata": {
        "id": "3e5ae18d-6dd8-4cf3-9355-2ed2103225bc"
      },
      "outputs": [],
      "source": []
    }
  ],
  "metadata": {
    "kernelspec": {
      "display_name": "Python 3 (ipykernel)",
      "language": "python",
      "name": "python3"
    },
    "language_info": {
      "codemirror_mode": {
        "name": "ipython",
        "version": 3
      },
      "file_extension": ".py",
      "mimetype": "text/x-python",
      "name": "python",
      "nbconvert_exporter": "python",
      "pygments_lexer": "ipython3",
      "version": "3.10.12"
    },
    "colab": {
      "provenance": [],
      "include_colab_link": true
    }
  },
  "nbformat": 4,
  "nbformat_minor": 5
}