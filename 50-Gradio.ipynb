{
  "cells": [
    {
      "cell_type": "markdown",
      "metadata": {
        "id": "view-in-github",
        "colab_type": "text"
      },
      "source": [
        "<a href=\"https://colab.research.google.com/github/JSJeong-me/GPT-Finetuning/blob/main/50-Gradio.ipynb\" target=\"_parent\"><img src=\"https://colab.research.google.com/assets/colab-badge.svg\" alt=\"Open In Colab\"/></a>"
      ]
    },
    {
      "cell_type": "code",
      "execution_count": null,
      "id": "762dcb32-cafa-4f6a-861f-930281fb13ce",
      "metadata": {
        "id": "762dcb32-cafa-4f6a-861f-930281fb13ce"
      },
      "outputs": [],
      "source": [
        "!pip install gradio"
      ]
    },
    {
      "cell_type": "code",
      "execution_count": 2,
      "id": "c7e04382-aa2f-4399-bb75-d624cc425a3c",
      "metadata": {
        "id": "c7e04382-aa2f-4399-bb75-d624cc425a3c",
        "colab": {
          "base_uri": "https://localhost:8080/",
          "height": 649
        },
        "outputId": "019e87f4-7bc8-4868-a6d4-3639e5200007"
      },
      "outputs": [
        {
          "output_type": "stream",
          "name": "stdout",
          "text": [
            "It looks like you are running Gradio on a hosted a Jupyter notebook. For the Gradio app to work, sharing must be enabled. Automatically setting `share=True` (you can turn this off by setting `share=False` in `launch()` explicitly).\n",
            "\n",
            "Colab notebook detected. To show errors in colab notebook, set debug=True in launch()\n",
            "* Running on public URL: https://ef85ddf8f6e48c178d.gradio.live\n",
            "\n",
            "This share link expires in 1 week. For free permanent hosting and GPU upgrades, run `gradio deploy` from the terminal in the working directory to deploy to Hugging Face Spaces (https://huggingface.co/spaces)\n"
          ]
        },
        {
          "output_type": "display_data",
          "data": {
            "text/plain": [
              "<IPython.core.display.HTML object>"
            ],
            "text/html": [
              "<div><iframe src=\"https://ef85ddf8f6e48c178d.gradio.live\" width=\"100%\" height=\"500\" allow=\"autoplay; camera; microphone; clipboard-read; clipboard-write;\" frameborder=\"0\" allowfullscreen></iframe></div>"
            ]
          },
          "metadata": {}
        },
        {
          "output_type": "execute_result",
          "data": {
            "text/plain": []
          },
          "metadata": {},
          "execution_count": 2
        }
      ],
      "source": [
        "import gradio as gr\n",
        "\n",
        "# 인터페이스에서 이벤트가 발생되면 실행되는 함수\n",
        "def greet(name):\n",
        "    return \"안녕하세요 \" + name + \"씨!\"\n",
        "\n",
        "# inputs로 TextBox 타입의 컴포넌트, outputs로 TextBox 타입의 컴포넌트가 하나씩 적용\n",
        "demo = gr.Interface(fn=greet, inputs=\"text\", outputs=\"text\")\n",
        "\n",
        "# 서버 어플리케이션은 모든 네트워크 인터페이스에 바인딩한다\n",
        "demo.launch(server_name='0.0.0.0')"
      ]
    },
    {
      "cell_type": "code",
      "execution_count": 3,
      "id": "2253bffc-37b2-4af9-80ee-c3148746a76a",
      "metadata": {
        "id": "2253bffc-37b2-4af9-80ee-c3148746a76a",
        "colab": {
          "base_uri": "https://localhost:8080/",
          "height": 649
        },
        "outputId": "b0679664-1180-47b2-d534-2b5d497fe64b"
      },
      "outputs": [
        {
          "output_type": "stream",
          "name": "stdout",
          "text": [
            "It looks like you are running Gradio on a hosted a Jupyter notebook. For the Gradio app to work, sharing must be enabled. Automatically setting `share=True` (you can turn this off by setting `share=False` in `launch()` explicitly).\n",
            "\n",
            "Colab notebook detected. To show errors in colab notebook, set debug=True in launch()\n",
            "* Running on public URL: https://8573fc14c80e646dea.gradio.live\n",
            "\n",
            "This share link expires in 1 week. For free permanent hosting and GPU upgrades, run `gradio deploy` from the terminal in the working directory to deploy to Hugging Face Spaces (https://huggingface.co/spaces)\n"
          ]
        },
        {
          "output_type": "display_data",
          "data": {
            "text/plain": [
              "<IPython.core.display.HTML object>"
            ],
            "text/html": [
              "<div><iframe src=\"https://8573fc14c80e646dea.gradio.live\" width=\"100%\" height=\"500\" allow=\"autoplay; camera; microphone; clipboard-read; clipboard-write;\" frameborder=\"0\" allowfullscreen></iframe></div>"
            ]
          },
          "metadata": {}
        },
        {
          "output_type": "execute_result",
          "data": {
            "text/plain": []
          },
          "metadata": {},
          "execution_count": 3
        }
      ],
      "source": [
        "import gradio as gr\n",
        "\n",
        "def greet(name):\n",
        "    return \"안녕하세요 \" + name + \"씨!\"\n",
        "\n",
        "demo = gr.Interface(\n",
        "    fn=greet,\n",
        "    inputs=gr.Textbox(lines=2, placeholder=\"여기에 이름을 쓰세요.\"), # TextBox의 속성을 변경\n",
        "    outputs=\"text\",\n",
        ")\n",
        "\n",
        "demo.launch(server_name='0.0.0.0')"
      ]
    },
    {
      "cell_type": "code",
      "execution_count": 4,
      "id": "d95e201c-a3c6-4803-a96c-5fa26aab9414",
      "metadata": {
        "id": "d95e201c-a3c6-4803-a96c-5fa26aab9414",
        "colab": {
          "base_uri": "https://localhost:8080/",
          "height": 649
        },
        "outputId": "80e135d3-691b-46fa-976e-9e333a0bafb9"
      },
      "outputs": [
        {
          "output_type": "stream",
          "name": "stdout",
          "text": [
            "It looks like you are running Gradio on a hosted a Jupyter notebook. For the Gradio app to work, sharing must be enabled. Automatically setting `share=True` (you can turn this off by setting `share=False` in `launch()` explicitly).\n",
            "\n",
            "Colab notebook detected. To show errors in colab notebook, set debug=True in launch()\n",
            "* Running on public URL: https://74822727ce69f4a204.gradio.live\n",
            "\n",
            "This share link expires in 1 week. For free permanent hosting and GPU upgrades, run `gradio deploy` from the terminal in the working directory to deploy to Hugging Face Spaces (https://huggingface.co/spaces)\n"
          ]
        },
        {
          "output_type": "display_data",
          "data": {
            "text/plain": [
              "<IPython.core.display.HTML object>"
            ],
            "text/html": [
              "<div><iframe src=\"https://74822727ce69f4a204.gradio.live\" width=\"100%\" height=\"500\" allow=\"autoplay; camera; microphone; clipboard-read; clipboard-write;\" frameborder=\"0\" allowfullscreen></iframe></div>"
            ]
          },
          "metadata": {}
        },
        {
          "output_type": "execute_result",
          "data": {
            "text/plain": []
          },
          "metadata": {},
          "execution_count": 4
        }
      ],
      "source": [
        "import gradio as gr\n",
        "\n",
        "# 여기서의 input이 인터페이스의 input(순서대로)\n",
        "def greet(name, is_morning, temperature):\n",
        "    salutation = \"좋은 아침입니다\" if is_morning else \"좋은 저녁입니다\"\n",
        "    greeting = f\"{salutation} {name}씨. 오늘은 섭씨 {temperature}도입니다.\"\n",
        "    fahrenheit = (temperature - 32) * 5 / 9\n",
        "    return greeting, (temperature * 9 / 5) + 32\n",
        "\n",
        "# 리턴은 인터페이스의 output(순서대로)\n",
        "\n",
        "demo = gr.Interface(\n",
        "    fn=greet,\n",
        "    inputs=[\"text\", \"checkbox\", gr.Slider(0, 100)],\n",
        "    outputs=[\"text\", \"number\"],\n",
        ")\n",
        "\n",
        "demo.launch(server_name='0.0.0.0')\n"
      ]
    },
    {
      "cell_type": "code",
      "execution_count": 6,
      "id": "768151f7-4ef4-461d-a969-806aa0c11fd0",
      "metadata": {
        "id": "768151f7-4ef4-461d-a969-806aa0c11fd0",
        "colab": {
          "base_uri": "https://localhost:8080/",
          "height": 649
        },
        "outputId": "11f0f8d8-2fa1-4938-c3c8-f93644c8daec"
      },
      "outputs": [
        {
          "output_type": "stream",
          "name": "stdout",
          "text": [
            "It looks like you are running Gradio on a hosted a Jupyter notebook. For the Gradio app to work, sharing must be enabled. Automatically setting `share=True` (you can turn this off by setting `share=False` in `launch()` explicitly).\n",
            "\n",
            "Colab notebook detected. To show errors in colab notebook, set debug=True in launch()\n",
            "* Running on public URL: https://d0e91aa73309896916.gradio.live\n",
            "\n",
            "This share link expires in 1 week. For free permanent hosting and GPU upgrades, run `gradio deploy` from the terminal in the working directory to deploy to Hugging Face Spaces (https://huggingface.co/spaces)\n"
          ]
        },
        {
          "output_type": "display_data",
          "data": {
            "text/plain": [
              "<IPython.core.display.HTML object>"
            ],
            "text/html": [
              "<div><iframe src=\"https://d0e91aa73309896916.gradio.live\" width=\"100%\" height=\"500\" allow=\"autoplay; camera; microphone; clipboard-read; clipboard-write;\" frameborder=\"0\" allowfullscreen></iframe></div>"
            ]
          },
          "metadata": {}
        },
        {
          "output_type": "execute_result",
          "data": {
            "text/plain": []
          },
          "metadata": {},
          "execution_count": 6
        }
      ],
      "source": [
        "import numpy as np\n",
        "import gradio as gr\n",
        "\n",
        "def sepia(input_img):\n",
        "    sepia_filter = np.array([\n",
        "        [0.393, 0.769, 0.189],\n",
        "        [0.349, 0.686, 0.168],\n",
        "        [0.272, 0.534, 0.131]\n",
        "    ])\n",
        "    sepia_img = input_img.dot(sepia_filter.T)\n",
        "    sepia_img /= sepia_img.max()\n",
        "    return sepia_img\n",
        "\n",
        "# gr.Image는 이미지만 전문으로 입력 또는 출력하는 컴포넌트\n",
        "demo = gr.Interface(sepia, gr.Image(), \"image\")\n",
        "demo.launch(server_name='0.0.0.0')"
      ]
    },
    {
      "cell_type": "code",
      "execution_count": 7,
      "id": "91d11822-b170-4b45-8a8b-770f3b342ccd",
      "metadata": {
        "id": "91d11822-b170-4b45-8a8b-770f3b342ccd",
        "colab": {
          "base_uri": "https://localhost:8080/",
          "height": 686
        },
        "outputId": "df520f0f-24d0-4788-b1be-80529bd79d07"
      },
      "outputs": [
        {
          "output_type": "stream",
          "name": "stderr",
          "text": [
            "/usr/local/lib/python3.11/dist-packages/gradio/chat_interface.py:339: UserWarning: The 'tuples' format for chatbot messages is deprecated and will be removed in a future version of Gradio. Please set type='messages' instead, which uses openai-style 'role' and 'content' keys.\n",
            "  self.chatbot = Chatbot(\n"
          ]
        },
        {
          "output_type": "stream",
          "name": "stdout",
          "text": [
            "It looks like you are running Gradio on a hosted a Jupyter notebook. For the Gradio app to work, sharing must be enabled. Automatically setting `share=True` (you can turn this off by setting `share=False` in `launch()` explicitly).\n",
            "\n",
            "Colab notebook detected. To show errors in colab notebook, set debug=True in launch()\n",
            "* Running on public URL: https://74561c3558be8d4e67.gradio.live\n",
            "\n",
            "This share link expires in 1 week. For free permanent hosting and GPU upgrades, run `gradio deploy` from the terminal in the working directory to deploy to Hugging Face Spaces (https://huggingface.co/spaces)\n"
          ]
        },
        {
          "output_type": "display_data",
          "data": {
            "text/plain": [
              "<IPython.core.display.HTML object>"
            ],
            "text/html": [
              "<div><iframe src=\"https://74561c3558be8d4e67.gradio.live\" width=\"100%\" height=\"500\" allow=\"autoplay; camera; microphone; clipboard-read; clipboard-write;\" frameborder=\"0\" allowfullscreen></iframe></div>"
            ]
          },
          "metadata": {}
        },
        {
          "output_type": "execute_result",
          "data": {
            "text/plain": []
          },
          "metadata": {},
          "execution_count": 7
        }
      ],
      "source": [
        "import random\n",
        "import gradio as gr\n",
        "\n",
        "def random_response(message, history):\n",
        "    return random.choice([\"네\", \"아니오\"])\n",
        "\n",
        "demo = gr.ChatInterface(random_response)\n",
        "\n",
        "# 히스토리 관리까지 해주는 신규 컴포넌트(gradio가 최신버전으로 업그레이드 되어야 함)\n",
        "# Interface 또는 ChatInterface 둘중 택일(Blocks를 쓰지 않는 경우, 정형화된 입력)\n",
        "demo.launch(server_name='0.0.0.0')"
      ]
    },
    {
      "cell_type": "code",
      "execution_count": 8,
      "id": "edc51db6-d22b-4b96-ae0b-65e4e1d9463f",
      "metadata": {
        "id": "edc51db6-d22b-4b96-ae0b-65e4e1d9463f",
        "colab": {
          "base_uri": "https://localhost:8080/",
          "height": 649
        },
        "outputId": "b412453a-a48f-43fc-c779-1e17a2b657e9"
      },
      "outputs": [
        {
          "output_type": "stream",
          "name": "stdout",
          "text": [
            "It looks like you are running Gradio on a hosted a Jupyter notebook. For the Gradio app to work, sharing must be enabled. Automatically setting `share=True` (you can turn this off by setting `share=False` in `launch()` explicitly).\n",
            "\n",
            "Colab notebook detected. To show errors in colab notebook, set debug=True in launch()\n",
            "* Running on public URL: https://659bdf6934414de15f.gradio.live\n",
            "\n",
            "This share link expires in 1 week. For free permanent hosting and GPU upgrades, run `gradio deploy` from the terminal in the working directory to deploy to Hugging Face Spaces (https://huggingface.co/spaces)\n"
          ]
        },
        {
          "output_type": "display_data",
          "data": {
            "text/plain": [
              "<IPython.core.display.HTML object>"
            ],
            "text/html": [
              "<div><iframe src=\"https://659bdf6934414de15f.gradio.live\" width=\"100%\" height=\"500\" allow=\"autoplay; camera; microphone; clipboard-read; clipboard-write;\" frameborder=\"0\" allowfullscreen></iframe></div>"
            ]
          },
          "metadata": {}
        },
        {
          "output_type": "execute_result",
          "data": {
            "text/plain": []
          },
          "metadata": {},
          "execution_count": 8
        }
      ],
      "source": [
        "import gradio as gr\n",
        "\n",
        "def greet(name):\n",
        "    return \"안녕하세요 \" + name + \"씨!\"\n",
        "\n",
        "with gr.Blocks() as demo:\n",
        "    name = gr.Textbox(label=\"Name\")\n",
        "    output = gr.Textbox(label=\"Output Box\")\n",
        "    greet_btn = gr.Button(\"Greet\")\n",
        "    greet_btn.click(fn=greet, inputs=name, outputs=output, api_name=\"greet\")\n",
        "\n",
        "demo.launch(server_name='0.0.0.0')"
      ]
    },
    {
      "cell_type": "code",
      "execution_count": 9,
      "id": "ca12edf8-77fe-40d0-87df-1176a885e436",
      "metadata": {
        "id": "ca12edf8-77fe-40d0-87df-1176a885e436",
        "colab": {
          "base_uri": "https://localhost:8080/",
          "height": 649
        },
        "outputId": "ba15eb99-3560-45fb-c746-9629bbd2d89a"
      },
      "outputs": [
        {
          "output_type": "stream",
          "name": "stdout",
          "text": [
            "It looks like you are running Gradio on a hosted a Jupyter notebook. For the Gradio app to work, sharing must be enabled. Automatically setting `share=True` (you can turn this off by setting `share=False` in `launch()` explicitly).\n",
            "\n",
            "Colab notebook detected. To show errors in colab notebook, set debug=True in launch()\n",
            "* Running on public URL: https://95cb2fae38c6c505d2.gradio.live\n",
            "\n",
            "This share link expires in 1 week. For free permanent hosting and GPU upgrades, run `gradio deploy` from the terminal in the working directory to deploy to Hugging Face Spaces (https://huggingface.co/spaces)\n"
          ]
        },
        {
          "output_type": "display_data",
          "data": {
            "text/plain": [
              "<IPython.core.display.HTML object>"
            ],
            "text/html": [
              "<div><iframe src=\"https://95cb2fae38c6c505d2.gradio.live\" width=\"100%\" height=\"500\" allow=\"autoplay; camera; microphone; clipboard-read; clipboard-write;\" frameborder=\"0\" allowfullscreen></iframe></div>"
            ]
          },
          "metadata": {}
        },
        {
          "output_type": "execute_result",
          "data": {
            "text/plain": []
          },
          "metadata": {},
          "execution_count": 9
        }
      ],
      "source": [
        "import numpy as np\n",
        "import gradio as gr\n",
        "\n",
        "\n",
        "def flip_text(x):\n",
        "    return x[::-1]\n",
        "\n",
        "\n",
        "def flip_image(x):\n",
        "    return np.fliplr(x)\n",
        "\n",
        "\n",
        "with gr.Blocks() as demo:\n",
        "    gr.Markdown(\"Flip text or image files using this demo.\")\n",
        "    with gr.Tab(\"Flip Text\"):\n",
        "        text_input = gr.Textbox()\n",
        "        text_output = gr.Textbox()\n",
        "        text_button = gr.Button(\"Flip\")\n",
        "    with gr.Tab(\"Flip Image\"):\n",
        "        with gr.Row():\n",
        "            image_input = gr.Image()\n",
        "            image_output = gr.Image()\n",
        "        image_button = gr.Button(\"Flip\")\n",
        "\n",
        "    with gr.Accordion(\"Open for More!\"):\n",
        "        gr.Markdown(\"Look at me...\")\n",
        "\n",
        "    text_button.click(flip_text, inputs=text_input, outputs=text_output)\n",
        "    image_button.click(flip_image, inputs=image_input, outputs=image_output)\n",
        "\n",
        "demo.launch(server_name='0.0.0.0')\n"
      ]
    },
    {
      "cell_type": "code",
      "execution_count": 10,
      "id": "cbbfbce7-eab0-4a7f-b247-07d6d038cb9f",
      "metadata": {
        "id": "cbbfbce7-eab0-4a7f-b247-07d6d038cb9f",
        "colab": {
          "base_uri": "https://localhost:8080/",
          "height": 649
        },
        "outputId": "b6922a55-6159-44d5-f120-baad2a143f20"
      },
      "outputs": [
        {
          "output_type": "stream",
          "name": "stdout",
          "text": [
            "It looks like you are running Gradio on a hosted a Jupyter notebook. For the Gradio app to work, sharing must be enabled. Automatically setting `share=True` (you can turn this off by setting `share=False` in `launch()` explicitly).\n",
            "\n",
            "Colab notebook detected. To show errors in colab notebook, set debug=True in launch()\n",
            "* Running on public URL: https://1c562185b850bf8f62.gradio.live\n",
            "\n",
            "This share link expires in 1 week. For free permanent hosting and GPU upgrades, run `gradio deploy` from the terminal in the working directory to deploy to Hugging Face Spaces (https://huggingface.co/spaces)\n"
          ]
        },
        {
          "output_type": "display_data",
          "data": {
            "text/plain": [
              "<IPython.core.display.HTML object>"
            ],
            "text/html": [
              "<div><iframe src=\"https://1c562185b850bf8f62.gradio.live\" width=\"100%\" height=\"500\" allow=\"autoplay; camera; microphone; clipboard-read; clipboard-write;\" frameborder=\"0\" allowfullscreen></iframe></div>"
            ]
          },
          "metadata": {}
        },
        {
          "output_type": "execute_result",
          "data": {
            "text/plain": []
          },
          "metadata": {},
          "execution_count": 10
        }
      ],
      "source": [
        "import gradio as gr\n",
        "\n",
        "def calculator(num1, operation, num2):\n",
        "    if operation == \"add\":\n",
        "        return num1 + num2\n",
        "    elif operation == \"subtract\":\n",
        "        return num1 - num2\n",
        "    elif operation == \"multiply\":\n",
        "        return num1 * num2\n",
        "    elif operation == \"divide\":\n",
        "        if num2 == 0:\n",
        "            raise gr.Error(\"Cannot divide by zero!\")\n",
        "        return num1 / num2\n",
        "\n",
        "# 함수, inputs, outputs, 그외 example도 간단하게 추가 가능\n",
        "\n",
        "demo = gr.Interface(\n",
        "    calculator,\n",
        "    [\n",
        "        \"number\",\n",
        "        gr.Radio([\"add\", \"subtract\", \"multiply\", \"divide\"]),\n",
        "        \"number\"\n",
        "    ],\n",
        "    \"number\",\n",
        "    examples=[\n",
        "        [5, \"add\", 3],\n",
        "        [4, \"divide\", 2],\n",
        "        [-4, \"multiply\", 2.5],\n",
        "        [0, \"subtract\", 1.2],\n",
        "    ],\n",
        "    title=\"Toy Calculator\",\n",
        "    description=\"Here's a sample toy calculator. Allows you to calculate things like $2+2=4$\",\n",
        ")\n",
        "\n",
        "demo.launch(server_name='0.0.0.0')\n"
      ]
    },
    {
      "cell_type": "code",
      "execution_count": 10,
      "id": "3e5ae18d-6dd8-4cf3-9355-2ed2103225bc",
      "metadata": {
        "id": "3e5ae18d-6dd8-4cf3-9355-2ed2103225bc"
      },
      "outputs": [],
      "source": []
    }
  ],
  "metadata": {
    "kernelspec": {
      "display_name": "Python 3 (ipykernel)",
      "language": "python",
      "name": "python3"
    },
    "language_info": {
      "codemirror_mode": {
        "name": "ipython",
        "version": 3
      },
      "file_extension": ".py",
      "mimetype": "text/x-python",
      "name": "python",
      "nbconvert_exporter": "python",
      "pygments_lexer": "ipython3",
      "version": "3.10.12"
    },
    "colab": {
      "provenance": [],
      "include_colab_link": true
    }
  },
  "nbformat": 4,
  "nbformat_minor": 5
}