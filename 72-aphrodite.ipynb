{
  "cells": [
    {
      "cell_type": "markdown",
      "metadata": {
        "id": "view-in-github",
        "colab_type": "text"
      },
      "source": [
        "<a href=\"https://colab.research.google.com/github/JSJeong-me/GPT-Finetuning/blob/main/72-aphrodite.ipynb\" target=\"_parent\"><img src=\"https://colab.research.google.com/assets/colab-badge.svg\" alt=\"Open In Colab\"/></a>"
      ]
    },
    {
      "cell_type": "markdown",
      "id": "499c3142-2033-437d-a60a-731988ac6074",
      "metadata": {
        "id": "499c3142-2033-437d-a60a-731988ac6074"
      },
      "source": [
        "# Aphrodite Engine\n",
        "\n",
        "[Aphrodite](https://github.com/PygmalionAI/aphrodite-engine) is the open-source large-scale inference engine designed to serve thousands of users on the [PygmalionAI](https://pygmalion.chat) website.\n",
        "\n",
        "* Attention mechanism by vLLM for fast throughput and low latencies\n",
        "* Support for for many SOTA sampling methods\n",
        "* Exllamav2 GPTQ kernels for better throughput at lower batch sizes\n",
        "\n",
        "This notebooks goes over how to use a LLM with langchain and Aphrodite.\n",
        "\n",
        "To use, you should have the `aphrodite-engine` python package installed."
      ]
    },
    {
      "cell_type": "code",
      "execution_count": 1,
      "id": "4dba1074",
      "metadata": {
        "id": "4dba1074"
      },
      "outputs": [],
      "source": [
        "##Installing the langchain packages needed to use the integration\n",
        "%pip install -qU langchain-community"
      ]
    },
    {
      "cell_type": "code",
      "execution_count": 4,
      "id": "8a3f2666-5c75-4797-967a-7915a247bf33",
      "metadata": {
        "tags": [],
        "colab": {
          "base_uri": "https://localhost:8080/"
        },
        "id": "8a3f2666-5c75-4797-967a-7915a247bf33",
        "outputId": "5e06d80c-b1f2-421b-ac34-58b6c662127d"
      },
      "outputs": [
        {
          "output_type": "stream",
          "name": "stdout",
          "text": [
            "aphrodite-engine                      0.4.2\n"
          ]
        }
      ],
      "source": [
        "%pip install --upgrade --quiet  aphrodite-engine==0.4.2\n",
        "%pip list | grep aphrodite"
      ]
    },
    {
      "cell_type": "code",
      "source": [
        "%pip install --upgrade --quiet pydantic>=2.7.4"
      ],
      "metadata": {
        "colab": {
          "base_uri": "https://localhost:8080/"
        },
        "id": "lgO7FI8PYa1y",
        "outputId": "c7679f1c-14a8-4322-b334-6f6c992384e5"
      },
      "id": "lgO7FI8PYa1y",
      "execution_count": 6,
      "outputs": [
        {
          "output_type": "stream",
          "name": "stdout",
          "text": [
            "\u001b[31mERROR: pip's dependency resolver does not currently take into account all the packages that are installed. This behaviour is the source of the following dependency conflicts.\n",
            "aphrodite-engine 0.4.2 requires pydantic==1.10.13, but you have pydantic 2.11.7 which is incompatible.\u001b[0m\u001b[31m\n",
            "\u001b[0m"
          ]
        }
      ]
    },
    {
      "cell_type": "code",
      "execution_count": null,
      "id": "84e350f7-21f6-455b-b1f0-8b0116a2fd49",
      "metadata": {
        "tags": [],
        "id": "84e350f7-21f6-455b-b1f0-8b0116a2fd49"
      },
      "outputs": [],
      "source": [
        "from langchain_community.llms import Aphrodite\n",
        "\n",
        "llm = Aphrodite(\n",
        "    model=\"PygmalionAI/pygmalion-2-7b\",\n",
        "    trust_remote_code=True,  # mandatory for hf models\n",
        "    max_tokens=128,\n",
        "    temperature=1.2,\n",
        "    min_p=0.05,\n",
        "    mirostat_mode=0,  # change to 2 to use mirostat\n",
        "    mirostat_tau=5.0,\n",
        "    mirostat_eta=0.1,\n",
        ")\n",
        "\n",
        "print(\n",
        "    llm.invoke(\n",
        "        '<|system|>Enter RP mode. You are Ayumu \"Osaka\" Kasuga.<|user|>Hey Osaka. Tell me about yourself.<|model|>'\n",
        "    )\n",
        ")"
      ]
    },
    {
      "cell_type": "markdown",
      "id": "94a3b41d-8329-4f8f-94f9-453d7f132214",
      "metadata": {
        "id": "94a3b41d-8329-4f8f-94f9-453d7f132214"
      },
      "source": [
        "## Integrate the model in an LLMChain"
      ]
    },
    {
      "cell_type": "code",
      "execution_count": null,
      "id": "5605b7a1-fa63-49c1-934d-8b4ef8d71dd5",
      "metadata": {
        "tags": [],
        "id": "5605b7a1-fa63-49c1-934d-8b4ef8d71dd5"
      },
      "outputs": [],
      "source": [
        "from langchain.chains import LLMChain\n",
        "from langchain_core.prompts import PromptTemplate\n",
        "\n",
        "template = \"\"\"Question: {question}\n",
        "\n",
        "Answer: Let's think step by step.\"\"\"\n",
        "prompt = PromptTemplate.from_template(template)\n",
        "\n",
        "llm_chain = LLMChain(prompt=prompt, llm=llm)\n",
        "\n",
        "question = \"Who was the US president in the year the first Pokemon game was released?\"\n",
        "\n",
        "print(llm_chain.run(question))"
      ]
    },
    {
      "cell_type": "markdown",
      "id": "56826aba-d08b-4838-8bfa-ca96e463b25d",
      "metadata": {
        "id": "56826aba-d08b-4838-8bfa-ca96e463b25d"
      },
      "source": [
        "## Distributed Inference\n",
        "\n",
        "Aphrodite supports distributed tensor-parallel inference and serving.\n",
        "\n",
        "To run multi-GPU inference with the LLM class, set the `tensor_parallel_size` argument to the number of GPUs you want to use. For example, to run inference on 4 GPUs"
      ]
    },
    {
      "cell_type": "code",
      "execution_count": null,
      "id": "f8c25c35-47b5-459d-9985-3cf546e9ac16",
      "metadata": {
        "id": "f8c25c35-47b5-459d-9985-3cf546e9ac16"
      },
      "outputs": [],
      "source": [
        "from langchain_community.llms import Aphrodite\n",
        "\n",
        "llm = Aphrodite(\n",
        "    model=\"PygmalionAI/mythalion-13b\",\n",
        "    tensor_parallel_size=4,\n",
        "    trust_remote_code=True,  # mandatory for hf models\n",
        ")\n",
        "\n",
        "llm(\"What is the future of AI?\")"
      ]
    },
    {
      "cell_type": "code",
      "metadata": {
        "id": "b61438ad"
      },
      "source": [
        "%pip install --upgrade --quiet pydantic>=2.7.4"
      ],
      "id": "b61438ad",
      "execution_count": 8,
      "outputs": []
    }
  ],
  "metadata": {
    "kernelspec": {
      "display_name": "Python 3",
      "name": "python3"
    },
    "language_info": {
      "codemirror_mode": {
        "name": "ipython",
        "version": 3
      },
      "file_extension": ".py",
      "mimetype": "text/x-python",
      "name": "python",
      "nbconvert_exporter": "python",
      "pygments_lexer": "ipython3",
      "version": "3.9.1"
    },
    "colab": {
      "provenance": [],
      "gpuType": "T4",
      "include_colab_link": true
    },
    "accelerator": "GPU"
  },
  "nbformat": 4,
  "nbformat_minor": 5
}