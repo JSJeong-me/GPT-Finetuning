{
  "nbformat": 4,
  "nbformat_minor": 0,
  "metadata": {
    "colab": {
      "provenance": []
    },
    "kernelspec": {
      "name": "python3",
      "display_name": "Python 3"
    },
    "language_info": {
      "name": "python"
    }
  },
  "cells": [
    {
      "cell_type": "code",
      "execution_count": 1,
      "metadata": {
        "id": "gb2oyqnHLD-B"
      },
      "outputs": [],
      "source": [
        "# 1. 라이브러리 설치\n",
        "!pip install streamlit==1.32.2 pyngrok pandas scikit-learn matplotlib --quiet"
      ]
    },
    {
      "cell_type": "code",
      "source": [
        "# 2. Colab 파일 업로드\n",
        "import os\n",
        "from google.colab import files\n",
        "from google.colab import userdata"
      ],
      "metadata": {
        "id": "ZvSRl-AJLH6I"
      },
      "execution_count": 2,
      "outputs": []
    },
    {
      "cell_type": "code",
      "source": [
        "from google.colab import userdata\n",
        "userdata.get('NGROK_AUTH_TOKEN')"
      ],
      "metadata": {
        "id": "Dl31LYZ_MIZw"
      },
      "execution_count": null,
      "outputs": []
    },
    {
      "cell_type": "code",
      "source": [
        "# Get ngrok authtoken from Colab secrets\n",
        "NGROK_AUTH_TOKEN = userdata.get('NGROK_AUTH_TOKEN')  # NGROK_AUTH_TOKEN"
      ],
      "metadata": {
        "id": "k7G_s07PMHNe"
      },
      "execution_count": 4,
      "outputs": []
    },
    {
      "cell_type": "code",
      "source": [
        "NGROK_AUTH_TOKEN"
      ],
      "metadata": {
        "id": "zATroJCRMXpw"
      },
      "execution_count": null,
      "outputs": []
    },
    {
      "cell_type": "code",
      "source": [
        "uploaded = files.upload()\n",
        "if uploaded:\n",
        "    filename = next(iter(uploaded))\n",
        "\n",
        "# 3. ngrok 설정\n",
        "from pyngrok import ngrok\n",
        "ngrok.kill() # 기존 터널 종료\n",
        "ngrok.set_auth_token(NGROK_AUTH_TOKEN) # Set the authtoken\n",
        "\n",
        "# 4. app.py 코드 작성\n",
        "app_code = '''\n",
        "import streamlit as st\n",
        "import pandas as pd\n",
        "import matplotlib.pyplot as plt\n",
        "from sklearn.linear_model import LinearRegression\n",
        "from sklearn.model_selection import train_test_split\n",
        "import os\n",
        "\n",
        "st.set_page_config(page_title=\"데이터 시각화 및 AI 예측\", layout=\"wide\")\n",
        "st.title(\"🧊 Streamlit 데이터 시각화 & AI 예측 데모\")\n",
        "\n",
        "# Colab 업로드 파일 검색\n",
        "uploaded_files = [f for f in os.listdir() if f.endswith('.csv')]\n",
        "if uploaded_files:\n",
        "    st.sidebar.header(\"1️⃣ 데이터 파일 선택\")\n",
        "    filename = st.sidebar.selectbox(\"분석할 파일을 선택하세요\", uploaded_files)\n",
        "    df = pd.read_csv(filename)\n",
        "    st.subheader(\"미리보기\")\n",
        "    st.dataframe(df.head())\n",
        "\n",
        "    st.sidebar.header(\"2️⃣ EDA & 시각화\")\n",
        "    st.subheader(\"기초 통계\")\n",
        "    st.write(df.describe())\n",
        "\n",
        "    st.subheader(\"컬럼별 분포 (히स्टogram)\")\n",
        "    col_option = st.selectbox(\"히스토그램을 볼 컬럼을 선택하세요\", df.columns)\n",
        "    fig, ax = plt.subplots()\n",
        "    ax.hist(df[col_option].dropna(), bins=30)\n",
        "    st.pyplot(fig)\n",
        "\n",
        "    st.sidebar.header(\"3️⃣ AI 예측\")\n",
        "    target_col = st.sidebar.selectbox(\"예측할 타겟(종속) 컬럼을 선택하세요\", df.columns)\n",
        "    feature_cols = st.sidebar.multiselect(\n",
        "        \"특징(독립) 컬럼을 선택하세요\",\n",
        "        [col for col in df.columns if col != target_col]\n",
        "    )\n",
        "\n",
        "    if len(feature_cols) > 0 and target_col:\n",
        "        X = df[feature_cols]\n",
        "        y = df[target_col]\n",
        "        X_train, X_test, y_train, y_test = train_test_split(X, y, random_state=42)\n",
        "\n",
        "        model = LinearRegression()\n",
        "        model.fit(X_train, y_train)\n",
        "        score = model.score(X_test, y_test)\n",
        "        st.write(f\"**예측 모델(R²): {score:.2f}**\")\n",
        "\n",
        "        st.markdown(\"#### 입력값을 넣어 예측해 보세요\")\n",
        "        input_data = []\n",
        "        for col in feature_cols:\n",
        "            val = st.number_input(f\"{col} 입력\", float(df[col].min()), float(df[col].max()), float(df[col].mean()))\n",
        "            input_data.append(val)\n",
        "        if st.button(\"예측하기\"):\n",
        "            pred = model.predict([input_data])\n",
        "            st.success(f\"예측 결과: {pred[0]:.2f}\")\n",
        "else:\n",
        "    st.info(\"Colab에 .csv 파일을 업로드한 뒤 새로고침하세요.\")\n",
        "'''\n",
        "\n",
        "with open('app.py', 'w', encoding='utf-8') as f:\n",
        "    f.write(app_code)"
      ],
      "metadata": {
        "id": "9OjZ8LUeMU1A"
      },
      "execution_count": null,
      "outputs": []
    },
    {
      "cell_type": "code",
      "source": [
        "# 5. ngrok으로 Streamlit 서버 노출\n",
        "public_url = ngrok.connect(8501)\n",
        "print(f'▶️ 아래 링크를 클릭하면 Colab에서 실행 중인 Streamlit 앱에 접속할 수 있습니다:\\n{public_url}')"
      ],
      "metadata": {
        "id": "5SJ6yZE3Mz_x"
      },
      "execution_count": null,
      "outputs": []
    },
    {
      "cell_type": "code",
      "source": [
        "# 6. Streamlit 실행 (백그라운드)\n",
        "!streamlit run app.py &>/content/log.txt &"
      ],
      "metadata": {
        "id": "ie3KhHvgMw4r"
      },
      "execution_count": null,
      "outputs": []
    }
  ]
}