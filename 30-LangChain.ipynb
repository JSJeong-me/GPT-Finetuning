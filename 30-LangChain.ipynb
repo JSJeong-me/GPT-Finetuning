{
  "nbformat": 4,
  "nbformat_minor": 0,
  "metadata": {
    "colab": {
      "provenance": [],
      "authorship_tag": "ABX9TyN+8k62zEYO8QoPrq03d8C5",
      "include_colab_link": true
    },
    "kernelspec": {
      "name": "python3",
      "display_name": "Python 3"
    },
    "language_info": {
      "name": "python"
    }
  },
  "cells": [
    {
      "cell_type": "markdown",
      "metadata": {
        "id": "view-in-github",
        "colab_type": "text"
      },
      "source": [
        "<a href=\"https://colab.research.google.com/github/JSJeong-me/GPT-Finetuning/blob/main/30-LangChain.ipynb\" target=\"_parent\"><img src=\"https://colab.research.google.com/assets/colab-badge.svg\" alt=\"Open In Colab\"/></a>"
      ]
    },
    {
      "cell_type": "code",
      "source": [
        "!pip install langchain\n",
        "!pip install openai\n",
        "!pip install python-dotenv"
      ],
      "metadata": {
        "id": "7iUrFuB5CBzt"
      },
      "execution_count": null,
      "outputs": []
    },
    {
      "cell_type": "code",
      "source": [
        "!ls -la"
      ],
      "metadata": {
        "id": "GnFc1kjqV2GM",
        "outputId": "9094f616-e801-466a-fcb6-12552307c722",
        "colab": {
          "base_uri": "https://localhost:8080/"
        }
      },
      "execution_count": 4,
      "outputs": [
        {
          "output_type": "stream",
          "name": "stdout",
          "text": [
            "total 20\n",
            "drwxr-xr-x 1 root root 4096 Jan  7 05:14 .\n",
            "drwxr-xr-x 1 root root 4096 Jan  7 05:10 ..\n",
            "drwxr-xr-x 4 root root 4096 Jan  4 14:20 .config\n",
            "-rw-r--r-- 1 root root   67 Jan  7 05:14 .env\n",
            "drwxr-xr-x 1 root root 4096 Jan  4 14:21 sample_data\n"
          ]
        }
      ]
    },
    {
      "cell_type": "code",
      "source": [
        "!echo \"OPENAI_API_KEY=sk-\" >> .env\n",
        "!source /content/.env"
      ],
      "metadata": {
        "id": "77XZwo9KCKZp"
      },
      "execution_count": 2,
      "outputs": []
    },
    {
      "cell_type": "code",
      "source": [
        "import os\n",
        "from dotenv import load_dotenv\n",
        "\n",
        "# Load environment variables from .env file\n",
        "load_dotenv()\n",
        "# Access the API key using the variable name defined in the .env file\n",
        "api_key = os.getenv(\"OPENAI_API_KEY\")"
      ],
      "metadata": {
        "id": "FJH3GtIjCUAn"
      },
      "execution_count": 3,
      "outputs": []
    },
    {
      "cell_type": "markdown",
      "source": [
        "Pipeline = prompt + model + output parser"
      ],
      "metadata": {
        "id": "E6YZlZZsBlmU"
      }
    },
    {
      "cell_type": "code",
      "source": [
        "topic = \"고양이를 주제로\""
      ],
      "metadata": {
        "id": "0T1LYfEiBsVm"
      },
      "execution_count": 12,
      "outputs": []
    },
    {
      "cell_type": "code",
      "execution_count": 13,
      "metadata": {
        "colab": {
          "base_uri": "https://localhost:8080/"
        },
        "id": "1RzsfJV7BjjJ",
        "outputId": "f1f5990c-4d33-4dd0-a847-492e2ff7a5a6"
      },
      "outputs": [
        {
          "output_type": "stream",
          "name": "stderr",
          "text": [
            "/usr/local/lib/python3.10/dist-packages/langchain_core/_api/deprecation.py:189: LangChainDeprecationWarning: The class `ChatOpenAI` was deprecated in LangChain 0.1.0 and will be removed in 0.2.0. Use langchain_openai.ChatOpenAI instead.\n",
            "  warn_deprecated(\n"
          ]
        }
      ],
      "source": [
        "from langchain.chat_models import ChatOpenAI\n",
        "from langchain.prompts import ChatPromptTemplate\n",
        "from langchain_core.output_parsers import StrOutputParser\n",
        "\n",
        "prompt = ChatPromptTemplate.from_template(\"재미난 이야기 3줄 작성 {topic}\")\n",
        "model = ChatOpenAI()\n",
        "output_parser = StrOutputParser()"
      ]
    },
    {
      "cell_type": "code",
      "source": [
        "chain = prompt | model | output_parser\n",
        "\n",
        "chain.invoke({\"topic\": topic})"
      ],
      "metadata": {
        "id": "aj_UYQcEBrAj"
      },
      "execution_count": null,
      "outputs": []
    },
    {
      "cell_type": "markdown",
      "source": [
        "Prompt"
      ],
      "metadata": {
        "id": "COq-V7A5C-RF"
      }
    },
    {
      "cell_type": "code",
      "source": [
        "prompt_value = prompt.invoke({\"topic\": topic})\n",
        "prompt_value"
      ],
      "metadata": {
        "colab": {
          "base_uri": "https://localhost:8080/"
        },
        "id": "udJc8DBVC5xl",
        "outputId": "d2af074a-14be-4fd7-c583-a466a4524323"
      },
      "execution_count": 15,
      "outputs": [
        {
          "output_type": "execute_result",
          "data": {
            "text/plain": [
              "ChatPromptValue(messages=[HumanMessage(content='재미난 이야기 3줄 작성 고양이를 주제로')])"
            ]
          },
          "metadata": {},
          "execution_count": 15
        }
      ]
    },
    {
      "cell_type": "code",
      "source": [
        "prompt_value.to_messages()"
      ],
      "metadata": {
        "colab": {
          "base_uri": "https://localhost:8080/"
        },
        "id": "FHFsk4zkDW6T",
        "outputId": "35725ebf-d8ae-4f0c-dfb1-f2006140e2c5"
      },
      "execution_count": 16,
      "outputs": [
        {
          "output_type": "execute_result",
          "data": {
            "text/plain": [
              "[HumanMessage(content='재미난 이야기 3줄 작성 고양이를 주제로')]"
            ]
          },
          "metadata": {},
          "execution_count": 16
        }
      ]
    },
    {
      "cell_type": "code",
      "source": [
        "prompt_value.to_string()"
      ],
      "metadata": {
        "colab": {
          "base_uri": "https://localhost:8080/",
          "height": 35
        },
        "id": "CSyPq6AaD9wn",
        "outputId": "8845b356-9b14-47ab-e3d3-9d9df5d144bf"
      },
      "execution_count": 17,
      "outputs": [
        {
          "output_type": "execute_result",
          "data": {
            "text/plain": [
              "'Human: 재미난 이야기 3줄 작성 고양이를 주제로'"
            ],
            "application/vnd.google.colaboratory.intrinsic+json": {
              "type": "string"
            }
          },
          "metadata": {},
          "execution_count": 17
        }
      ]
    },
    {
      "cell_type": "markdown",
      "source": [
        "Model"
      ],
      "metadata": {
        "id": "68mYPhQXEBNU"
      }
    },
    {
      "cell_type": "code",
      "source": [
        "message = model.invoke(prompt_value)\n",
        "message"
      ],
      "metadata": {
        "colab": {
          "base_uri": "https://localhost:8080/"
        },
        "id": "TsgwYuOKEDhT",
        "outputId": "2e3fddab-eb0f-4e9e-d412-8c7b37f13d5e"
      },
      "execution_count": null,
      "outputs": [
        {
          "output_type": "execute_result",
          "data": {
            "text/plain": [
              "AIMessage(content='한 번 바닷속에서 산책을 하던 한 소년은 갑자기 큰 파도에 휩쓸려 끝없는 심해로 떨어졌다. 그곳에서 그는 우연히 고래와 마주친다. 고래는 소년을 안심시키기 위해 부드럽게 손으로 안아주었다.')"
            ]
          },
          "metadata": {},
          "execution_count": 9
        }
      ]
    },
    {
      "cell_type": "code",
      "source": [
        "from langchain.llms import OpenAI\n",
        "\n",
        "llm = OpenAI(model=\"gpt-3.5-turbo-instruct\")\n",
        "llm.invoke(prompt_value)"
      ],
      "metadata": {
        "colab": {
          "base_uri": "https://localhost:8080/",
          "height": 72
        },
        "id": "eZp-nYzRELl-",
        "outputId": "678b71cf-a740-4435-d047-d19e852ffd58"
      },
      "execution_count": null,
      "outputs": [
        {
          "output_type": "execute_result",
          "data": {
            "text/plain": [
              "'\\n\\n1. 한 마리의 고래가 바다 속에서 자유롭게 수영하며 다른 동물들과 재미있는 놀이를 즐겼다.\\n2. 어느 날, 고래는 바다 위로 뛰어오르며 놀랍게도 인간의 목소리를 들었다.\\n3. 인간과의 교류를 통해 고래는 새로운 친구를 만들고 더욱 다양한 경험을 쌓게 되었다.'"
            ],
            "application/vnd.google.colaboratory.intrinsic+json": {
              "type": "string"
            }
          },
          "metadata": {},
          "execution_count": 10
        }
      ]
    },
    {
      "cell_type": "markdown",
      "source": [
        "Output parser"
      ],
      "metadata": {
        "id": "4XV9yxiEERvt"
      }
    },
    {
      "cell_type": "code",
      "source": [
        "output_parser.invoke(message)"
      ],
      "metadata": {
        "colab": {
          "base_uri": "https://localhost:8080/",
          "height": 54
        },
        "id": "7yCAItt2ERXV",
        "outputId": "2070eb8e-b86d-4275-cc50-c4b6f4259c74"
      },
      "execution_count": null,
      "outputs": [
        {
          "output_type": "execute_result",
          "data": {
            "text/plain": [
              "'한 번 바닷속에서 산책을 하던 한 소년은 갑자기 큰 파도에 휩쓸려 끝없는 심해로 떨어졌다. 그곳에서 그는 우연히 고래와 마주친다. 고래는 소년을 안심시키기 위해 부드럽게 손으로 안아주었다.'"
            ],
            "application/vnd.google.colaboratory.intrinsic+json": {
              "type": "string"
            }
          },
          "metadata": {},
          "execution_count": 11
        }
      ]
    },
    {
      "cell_type": "markdown",
      "source": [
        "Entire Pipeline"
      ],
      "metadata": {
        "id": "OvF7IVmREYS7"
      }
    },
    {
      "cell_type": "code",
      "source": [
        "input = {\"topic\": topic}\n",
        "\n",
        "prompt.invoke(input)\n",
        "# > ChatPromptValue(messages=[HumanMessage(content='tell me a short joke about ice cream')])\n",
        "\n",
        "(prompt | model).invoke(input)\n",
        "# > AIMessage(content=\"Why did the ice cream go to therapy?\\nBecause it had too many toppings and couldn't cone-trol itself!\")"
      ],
      "metadata": {
        "colab": {
          "base_uri": "https://localhost:8080/"
        },
        "id": "1YLBKkOmEZFK",
        "outputId": "fcac875e-1494-438e-fb8e-58f690d83006"
      },
      "execution_count": 18,
      "outputs": [
        {
          "output_type": "execute_result",
          "data": {
            "text/plain": [
              "AIMessage(content='한 날, 우리 집에 이상한 고양이가 나타났다. 그 고양이는 푹신한 털과 반짝이는 눈을 가지고 있었는데, 사람들이 다가가려고 하면 자꾸만 사라져 버렸다. 어느 날, 그 고양이가 사라진 이유를 알게 되었는데, 그 고양이는 실제로는 우리집에 사는 귀신이었다.')"
            ]
          },
          "metadata": {},
          "execution_count": 18
        }
      ]
    },
    {
      "cell_type": "code",
      "source": [
        "!pip show openai | grep Version"
      ],
      "metadata": {
        "id": "Jrdy1jV4bJXl",
        "outputId": "f97a046c-8803-4c8b-d1fa-3f45fc3f97eb",
        "colab": {
          "base_uri": "https://localhost:8080/"
        }
      },
      "execution_count": 4,
      "outputs": [
        {
          "output_type": "stream",
          "name": "stdout",
          "text": [
            "Version: 1.6.1\n"
          ]
        }
      ]
    },
    {
      "cell_type": "code",
      "source": [
        "from openai import OpenAI\n",
        "client = OpenAI()\n",
        "\n",
        "response = client.chat.completions.create(\n",
        "  model=\"gpt-3.5-turbo\",\n",
        "  messages=[\n",
        "    {\n",
        "      \"role\": \"system\",\n",
        "      \"content\": \"나는 집에 있어요\"\n",
        "    },\n",
        "    {\n",
        "      \"role\": \"user\",\n",
        "      \"content\": \"고양이를 주제로 재미난 이야기 3줄 작성\"\n",
        "    },\n",
        "    {\n",
        "      \"role\": \"assistant\",\n",
        "      \"content\": \"한 번 제대로 된 털싸움을 한 삼색이는 이제 날 아끼며 소중하게 키우는 주인을 만났어요. 그런데 어느 날 삼색이는 주인의 머리 살롱을 열 예정이라고 공지하고 머리 스타일에 대해 의견을 내놓았어요. 이제 삼색이도 주인과 함께 서로 멋진 모습으로 변신할 일상을 즐길 거예요.\"\n",
        "    }\n",
        "  ],\n",
        "  temperature=0,\n",
        "  max_tokens=256,\n",
        "  top_p=0,\n",
        "  frequency_penalty=0,\n",
        "  presence_penalty=0\n",
        ")"
      ],
      "metadata": {
        "id": "4VxtempsbPkK"
      },
      "execution_count": 10,
      "outputs": []
    },
    {
      "cell_type": "code",
      "source": [
        "response"
      ],
      "metadata": {
        "id": "SOUh0-wqb5C9",
        "outputId": "0b5d05bf-f5e5-4be0-9e28-b0ebfaf3343a",
        "colab": {
          "base_uri": "https://localhost:8080/"
        }
      },
      "execution_count": 11,
      "outputs": [
        {
          "output_type": "execute_result",
          "data": {
            "text/plain": [
              "ChatCompletion(id='chatcmpl-8eGILATuzSpNUZlwMqD98Un5TAnT4', choices=[Choice(finish_reason='stop', index=0, logprobs=None, message=ChatCompletionMessage(content='한 번 제대로 된 털싸움을 한 삼색이는 이제 날 아끼며 소중하게 키우는 주인을 만났어요. 그런데 어느 날 삼색이는 주인의 머리 살롱을 열 예정이라고 공지하고 머리 스타일에 대해 의견을 내놓았어요. 이제 삼색이도 주인과 함께 서로 멋진 모습으로 변신할 일상을 즐길 거예요.', role='assistant', function_call=None, tool_calls=None))], created=1704606449, model='gpt-3.5-turbo-0613', object='chat.completion', system_fingerprint=None, usage=CompletionUsage(completion_tokens=159, prompt_tokens=204, total_tokens=363))"
            ]
          },
          "metadata": {},
          "execution_count": 11
        }
      ]
    },
    {
      "cell_type": "markdown",
      "source": [
        "고양이 알루미늄은 한낮에는 평범한 집고양이지만, 밤이 되면 모습도 변하고 턱이 하나 더 늘어나 눈에는 악마의 불꽃이 타오르는 기상천외한 고양이랍니다. 이 알루미늄은 자신이 국제 스파이 연합의 특수 요원이라는 비밀을 감추고 있어서, 주인은 언제나 궁금한 눈빛으로 알루미늄의 활약을 지켜보고 있어요. 언젠가는 주인에게 자신의 진짜 정체를 밝히는 날이 올까요? 그리고 이 고양이는 정말로 먹잇감의 뼈까지 먹어버리는 건"
      ],
      "metadata": {
        "id": "Wp5vYkYBddpv"
      }
    },
    {
      "cell_type": "code",
      "source": [
        "from openai import OpenAI\n",
        "client = OpenAI()\n",
        "\n",
        "response = client.chat.completions.create(\n",
        "  model=\"gpt-3.5-turbo\",\n",
        "  messages=[\n",
        "    {\n",
        "      \"role\": \"system\",\n",
        "      \"content\": \"나는 집에 있어요\"\n",
        "    },\n",
        "    {\n",
        "      \"role\": \"user\",\n",
        "      \"content\": \"고양이를 주제로 재미난 이야기 3줄 작성\"\n",
        "    }\n",
        "  ],\n",
        "  temperature=1,\n",
        "  max_tokens=256,\n",
        "  top_p=1,\n",
        "  frequency_penalty=0,\n",
        "  presence_penalty=0\n",
        ")"
      ],
      "metadata": {
        "id": "_9gpNiTib9DE"
      },
      "execution_count": 17,
      "outputs": []
    },
    {
      "cell_type": "code",
      "source": [
        "response"
      ],
      "metadata": {
        "id": "bkT5dnzodz53",
        "outputId": "68742142-120c-4ff6-ff48-2af44705d0df",
        "colab": {
          "base_uri": "https://localhost:8080/"
        }
      },
      "execution_count": 18,
      "outputs": [
        {
          "output_type": "execute_result",
          "data": {
            "text/plain": [
              "ChatCompletion(id='chatcmpl-8eGKaGbmG04UeRUDNogbIxnBunBvl', choices=[Choice(finish_reason='stop', index=0, logprobs=None, message=ChatCompletionMessage(content='한 날, 동네에서 무서운 소리를 듣고 나가보니 고양이가 나무에 매달려 있는 걸 발견했다. 하지만 그런 상황에서도 호기심 대신 고양이는 냅다 졸린 얼굴로 나를 바라봤다. 그런데 그 고양이는 나에게 윙크하며 하늘을 날았다!', role='assistant', function_call=None, tool_calls=None))], created=1704606588, model='gpt-3.5-turbo-0613', object='chat.completion', system_fingerprint=None, usage=CompletionUsage(completion_tokens=127, prompt_tokens=41, total_tokens=168))"
            ]
          },
          "metadata": {},
          "execution_count": 18
        }
      ]
    },
    {
      "cell_type": "markdown",
      "source": [
        "한 번은 고양이가 마법사가 되어 마법을 부리는 이야기였어요. 그래서 고양이들이 놀라운 마법을 사용해서 사람들을 놀라게 했답니다. 하지만 결국엔 고양이들이 마법을 잘못 사용해서 모든 것이 엉망이 되었어요."
      ],
      "metadata": {
        "id": "whH2l9Cod3r-"
      }
    },
    {
      "cell_type": "markdown",
      "source": [
        " 한번은 고양이가 마법사가 되어 마법을 부리는 이야기였어요. 그래서 고양이들이 물건을 날려버리고 사람들을 놀라게 했어요. 하지만 결국 마법이 풀려서 다시 평범한 고양이로 돌아왔답니다."
      ],
      "metadata": {
        "id": "fVPaqGq6d-JX"
      }
    },
    {
      "cell_type": "markdown",
      "source": [
        "한 날, 동네에서 무서운 소리를 듣고 나가보니 고양이가 나무에 매달려 있는 걸 발견했다. 하지만 그런 상황에서도 호기심 대신 고양이는 냅다 졸린 얼굴로 나를 바라봤다. 그런데 그 고양이는 나에게 윙크하며 하늘을 날았다!"
      ],
      "metadata": {
        "id": "YTeny4nFeJmH"
      }
    }
  ]
}