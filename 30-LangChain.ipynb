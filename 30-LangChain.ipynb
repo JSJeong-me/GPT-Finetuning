{
  "nbformat": 4,
  "nbformat_minor": 0,
  "metadata": {
    "colab": {
      "provenance": [],
      "authorship_tag": "ABX9TyNtkaGhz2aTGcZvzwre8Gu1",
      "include_colab_link": true
    },
    "kernelspec": {
      "name": "python3",
      "display_name": "Python 3"
    },
    "language_info": {
      "name": "python"
    }
  },
  "cells": [
    {
      "cell_type": "markdown",
      "metadata": {
        "id": "view-in-github",
        "colab_type": "text"
      },
      "source": [
        "<a href=\"https://colab.research.google.com/github/JSJeong-me/GPT-Finetuning/blob/main/30-LangChain.ipynb\" target=\"_parent\"><img src=\"https://colab.research.google.com/assets/colab-badge.svg\" alt=\"Open In Colab\"/></a>"
      ]
    },
    {
      "cell_type": "code",
      "source": [
        "!pip install langchain\n",
        "!pip install openai==0.28\n",
        "!pip install python-dotenv"
      ],
      "metadata": {
        "id": "7iUrFuB5CBzt"
      },
      "execution_count": null,
      "outputs": []
    },
    {
      "cell_type": "code",
      "source": [
        "!echo \"OPENAI_API_KEY=sk-\" >> .env\n",
        "!source /content/.env"
      ],
      "metadata": {
        "id": "77XZwo9KCKZp"
      },
      "execution_count": 2,
      "outputs": []
    },
    {
      "cell_type": "code",
      "source": [
        "import os\n",
        "from dotenv import load_dotenv\n",
        "\n",
        "# Load environment variables from .env file\n",
        "load_dotenv()\n",
        "# Access the API key using the variable name defined in the .env file\n",
        "api_key = os.getenv(\"OPENAI_API_KEY\")"
      ],
      "metadata": {
        "id": "FJH3GtIjCUAn"
      },
      "execution_count": 3,
      "outputs": []
    },
    {
      "cell_type": "markdown",
      "source": [
        "Pipeline = prompt + model + output parser"
      ],
      "metadata": {
        "id": "E6YZlZZsBlmU"
      }
    },
    {
      "cell_type": "code",
      "source": [
        "topic = \"고래를 주제로\""
      ],
      "metadata": {
        "id": "0T1LYfEiBsVm"
      },
      "execution_count": 4,
      "outputs": []
    },
    {
      "cell_type": "code",
      "execution_count": 5,
      "metadata": {
        "colab": {
          "base_uri": "https://localhost:8080/",
          "height": 72
        },
        "id": "1RzsfJV7BjjJ",
        "outputId": "54e94677-9541-40a5-c949-18f871f53f1e"
      },
      "outputs": [
        {
          "output_type": "execute_result",
          "data": {
            "text/plain": [
              "'한 날, 엄마고래와 아기고래는 바다를 헤엄치고 있었다. 갑자기 아기고래는 깊은 바다 속에서 아름다운 진주를 발견했다. 엄마고래는 아기고래와 함께 진주를 주워들어 가족끼리 보물을 찾아 나섰다. 최후에는 이보다 더 귀중한 것은 가족의 사랑이라는 것을 알게 되었다.'"
            ],
            "application/vnd.google.colaboratory.intrinsic+json": {
              "type": "string"
            }
          },
          "metadata": {},
          "execution_count": 5
        }
      ],
      "source": [
        "from langchain.chat_models import ChatOpenAI\n",
        "from langchain.prompts import ChatPromptTemplate\n",
        "from langchain_core.output_parsers import StrOutputParser\n",
        "\n",
        "prompt = ChatPromptTemplate.from_template(\"재미난 이야기 3줄 작성 {topic}\")\n",
        "model = ChatOpenAI()\n",
        "output_parser = StrOutputParser()\n",
        "\n",
        "chain = prompt | model | output_parser\n",
        "\n",
        "chain.invoke({\"topic\": topic})"
      ]
    },
    {
      "cell_type": "code",
      "source": [],
      "metadata": {
        "id": "aj_UYQcEBrAj"
      },
      "execution_count": 5,
      "outputs": []
    },
    {
      "cell_type": "markdown",
      "source": [
        "Prompt"
      ],
      "metadata": {
        "id": "COq-V7A5C-RF"
      }
    },
    {
      "cell_type": "code",
      "source": [
        "prompt_value = prompt.invoke({\"topic\": topic})\n",
        "prompt_value"
      ],
      "metadata": {
        "colab": {
          "base_uri": "https://localhost:8080/"
        },
        "id": "udJc8DBVC5xl",
        "outputId": "b704a831-a6b2-4c8c-ccf3-50c3a523131d"
      },
      "execution_count": 6,
      "outputs": [
        {
          "output_type": "execute_result",
          "data": {
            "text/plain": [
              "ChatPromptValue(messages=[HumanMessage(content='재미난 이야기 3줄 작성 고래를 주제로')])"
            ]
          },
          "metadata": {},
          "execution_count": 6
        }
      ]
    },
    {
      "cell_type": "code",
      "source": [
        "prompt_value.to_messages()"
      ],
      "metadata": {
        "colab": {
          "base_uri": "https://localhost:8080/"
        },
        "id": "FHFsk4zkDW6T",
        "outputId": "409dacba-1bcc-45ec-8165-7cf74fce5971"
      },
      "execution_count": 7,
      "outputs": [
        {
          "output_type": "execute_result",
          "data": {
            "text/plain": [
              "[HumanMessage(content='재미난 이야기 3줄 작성 고래를 주제로')]"
            ]
          },
          "metadata": {},
          "execution_count": 7
        }
      ]
    },
    {
      "cell_type": "code",
      "source": [
        "prompt_value.to_string()"
      ],
      "metadata": {
        "colab": {
          "base_uri": "https://localhost:8080/",
          "height": 35
        },
        "id": "CSyPq6AaD9wn",
        "outputId": "6cf3800b-bcc7-47ef-ccb9-e0bbd4ab08c8"
      },
      "execution_count": 8,
      "outputs": [
        {
          "output_type": "execute_result",
          "data": {
            "text/plain": [
              "'Human: 재미난 이야기 3줄 작성 고래를 주제로'"
            ],
            "application/vnd.google.colaboratory.intrinsic+json": {
              "type": "string"
            }
          },
          "metadata": {},
          "execution_count": 8
        }
      ]
    },
    {
      "cell_type": "markdown",
      "source": [
        "Model"
      ],
      "metadata": {
        "id": "68mYPhQXEBNU"
      }
    },
    {
      "cell_type": "code",
      "source": [
        "message = model.invoke(prompt_value)\n",
        "message"
      ],
      "metadata": {
        "colab": {
          "base_uri": "https://localhost:8080/"
        },
        "id": "TsgwYuOKEDhT",
        "outputId": "2e3fddab-eb0f-4e9e-d412-8c7b37f13d5e"
      },
      "execution_count": 9,
      "outputs": [
        {
          "output_type": "execute_result",
          "data": {
            "text/plain": [
              "AIMessage(content='한 번 바닷속에서 산책을 하던 한 소년은 갑자기 큰 파도에 휩쓸려 끝없는 심해로 떨어졌다. 그곳에서 그는 우연히 고래와 마주친다. 고래는 소년을 안심시키기 위해 부드럽게 손으로 안아주었다.')"
            ]
          },
          "metadata": {},
          "execution_count": 9
        }
      ]
    },
    {
      "cell_type": "code",
      "source": [
        "from langchain.llms import OpenAI\n",
        "\n",
        "llm = OpenAI(model=\"gpt-3.5-turbo-instruct\")\n",
        "llm.invoke(prompt_value)"
      ],
      "metadata": {
        "colab": {
          "base_uri": "https://localhost:8080/",
          "height": 72
        },
        "id": "eZp-nYzRELl-",
        "outputId": "678b71cf-a740-4435-d047-d19e852ffd58"
      },
      "execution_count": 10,
      "outputs": [
        {
          "output_type": "execute_result",
          "data": {
            "text/plain": [
              "'\\n\\n1. 한 마리의 고래가 바다 속에서 자유롭게 수영하며 다른 동물들과 재미있는 놀이를 즐겼다.\\n2. 어느 날, 고래는 바다 위로 뛰어오르며 놀랍게도 인간의 목소리를 들었다.\\n3. 인간과의 교류를 통해 고래는 새로운 친구를 만들고 더욱 다양한 경험을 쌓게 되었다.'"
            ],
            "application/vnd.google.colaboratory.intrinsic+json": {
              "type": "string"
            }
          },
          "metadata": {},
          "execution_count": 10
        }
      ]
    },
    {
      "cell_type": "markdown",
      "source": [
        "Output parser"
      ],
      "metadata": {
        "id": "4XV9yxiEERvt"
      }
    },
    {
      "cell_type": "code",
      "source": [
        "output_parser.invoke(message)"
      ],
      "metadata": {
        "colab": {
          "base_uri": "https://localhost:8080/",
          "height": 54
        },
        "id": "7yCAItt2ERXV",
        "outputId": "2070eb8e-b86d-4275-cc50-c4b6f4259c74"
      },
      "execution_count": 11,
      "outputs": [
        {
          "output_type": "execute_result",
          "data": {
            "text/plain": [
              "'한 번 바닷속에서 산책을 하던 한 소년은 갑자기 큰 파도에 휩쓸려 끝없는 심해로 떨어졌다. 그곳에서 그는 우연히 고래와 마주친다. 고래는 소년을 안심시키기 위해 부드럽게 손으로 안아주었다.'"
            ],
            "application/vnd.google.colaboratory.intrinsic+json": {
              "type": "string"
            }
          },
          "metadata": {},
          "execution_count": 11
        }
      ]
    },
    {
      "cell_type": "markdown",
      "source": [
        "Entire Pipeline"
      ],
      "metadata": {
        "id": "OvF7IVmREYS7"
      }
    },
    {
      "cell_type": "code",
      "source": [
        "input = {\"topic\": topic}\n",
        "\n",
        "prompt.invoke(input)\n",
        "# > ChatPromptValue(messages=[HumanMessage(content='tell me a short joke about ice cream')])\n",
        "\n",
        "(prompt | model).invoke(input)\n",
        "# > AIMessage(content=\"Why did the ice cream go to therapy?\\nBecause it had too many toppings and couldn't cone-trol itself!\")"
      ],
      "metadata": {
        "colab": {
          "base_uri": "https://localhost:8080/"
        },
        "id": "1YLBKkOmEZFK",
        "outputId": "359f6ba7-a94f-4cfd-8104-6afd9e6dc784"
      },
      "execution_count": 12,
      "outputs": [
        {
          "output_type": "execute_result",
          "data": {
            "text/plain": [
              "AIMessage(content='한 번은 고래가 사람들을 위해 특별한 무리를 만들어 춤을 추었는데, 물결 소리에 맞춰서 웅장하고 아름다운 춤을 보여줬다. 이 춤은 사람들에게 큰 감동을 주었고, 그날 이후로 고래는 물고기들 사이에서 춤추는 고래로 소문났다. 이 고래의 춤은 오늘날에도 인기 있는 물 공연에서 자주 볼 수 있다.')"
            ]
          },
          "metadata": {},
          "execution_count": 12
        }
      ]
    }
  ]
}