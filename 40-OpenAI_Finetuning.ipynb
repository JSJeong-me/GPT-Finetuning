{
  "nbformat": 4,
  "nbformat_minor": 0,
  "metadata": {
    "colab": {
      "provenance": [],
      "gpuType": "T4",
      "include_colab_link": true
    },
    "kernelspec": {
      "name": "python3",
      "display_name": "Python 3"
    },
    "language_info": {
      "name": "python"
    },
    "accelerator": "GPU"
  },
  "cells": [
    {
      "cell_type": "markdown",
      "metadata": {
        "id": "view-in-github",
        "colab_type": "text"
      },
      "source": [
        "<a href=\"https://colab.research.google.com/github/JSJeong-me/GPT-Finetuning/blob/main/40-OpenAI_Finetuning.ipynb\" target=\"_parent\"><img src=\"https://colab.research.google.com/assets/colab-badge.svg\" alt=\"Open In Colab\"/></a>"
      ]
    },
    {
      "cell_type": "code",
      "source": [
        "!pip install openai==0.28\n",
        "!pip install datasets"
      ],
      "metadata": {
        "id": "1judd9krSiFG"
      },
      "execution_count": null,
      "outputs": []
    },
    {
      "cell_type": "markdown",
      "source": [
        "# OpenAI API Key 설정"
      ],
      "metadata": {
        "id": "RfTT7awXHSA1"
      }
    },
    {
      "cell_type": "code",
      "source": [
        "from google.colab import userdata\n",
        "import os\n",
        "\n",
        "os.environ[\"OPENAI_API_KEY\"] = userdata.get('OPENAI_API_KEY')\n",
        "api_key = os.getenv(\"OPENAI_API_KEY\")"
      ],
      "metadata": {
        "id": "3pL06p-wkCzV"
      },
      "execution_count": 2,
      "outputs": []
    },
    {
      "cell_type": "markdown",
      "source": [
        "# 학습 데이터의 준비"
      ],
      "metadata": {
        "id": "LUvwgw7lvLhj"
      }
    },
    {
      "cell_type": "code",
      "source": [
        "\n",
        "dataset = {\n",
        "    \"train\": [\n",
        "        {\"instruction\": \"서울의 현재 기온은 얼마인가?\", \"output\": \"현재 서울의 기온은 약 15도입니다.\"},\n",
        "        {\"instruction\": \"뉴욕의 현재 기온은 얼마인가?\", \"output\": \"현재 뉴욕의 기온은 약 18도입니다.\"},\n",
        "        {\"instruction\": \"런던의 현재 기온은 얼마인가?\", \"output\": \"현재 런던의 기온은 약 12도입니다.\"},\n",
        "        {\"instruction\": \"파리의 현재 기온은 얼마인가?\", \"output\": \"현재 파리의 기온은 약 14도입니다.\"},\n",
        "        {\"instruction\": \"도쿄의 현재 기온은 얼마인가?\", \"output\": \"현재 도쿄의 기온은 약 20도입니다.\"},\n",
        "        {\"instruction\": \"베를린의 현재 기온은 얼마인가?\", \"output\": \"현재 베를린의 기온은 약 10도입니다.\"},\n",
        "        {\"instruction\": \"모스크바의 현재 기온은 얼마인가?\", \"output\": \"현재 모스크바의 기온은 약 5도입니다.\"},\n",
        "        {\"instruction\": \"로마의 현재 기온은 얼마인가?\", \"output\": \"현재 로마의 기온은 약 19도입니다.\"},\n",
        "        {\"instruction\": \"마드리드의 현재 기온은 얼마인가?\", \"output\": \"현재 마드리드의 기온은 약 22도입니다.\"},\n",
        "        {\"instruction\": \"시드니의 현재 기온은 얼마인가?\", \"output\": \"현재 시드니의 기온은 약 25도입니다.\"},\n",
        "        {\"instruction\": \"멜버른의 현재 기온은 얼마인가?\", \"output\": \"현재 멜버른의 기온은 약 18도입니다.\"},\n",
        "        {\"instruction\": \"상하이의 현재 기온은 얼마인가?\", \"output\": \"현재 상하이의 기온은 약 16도입니다.\"},\n",
        "        {\"instruction\": \"베이징의 현재 기온은 얼마인가?\", \"output\": \"현재 베이징의 기온은 약 13도입니다.\"},\n",
        "        {\"instruction\": \"리우데자네이루의 현재 기온은 얼마인가?\", \"output\": \"현재 리우데자네이루의 기온은 약 28도입니다.\"},\n",
        "        {\"instruction\": \"부에노스아이레스의 현재 기온은 얼마인가?\", \"output\": \"현재 부에노스아이레스의 기온은 약 22도입니다.\"},\n",
        "        {\"instruction\": \"카이로의 현재 기온은 얼마인가?\", \"output\": \"현재 카이로의 기온은 약 30도입니다.\"},\n",
        "        {\"instruction\": \"나이로비의 현재 기온은 얼마인가?\", \"output\": \"현재 나이로비의 기온은 약 24도입니다.\"},\n",
        "        {\"instruction\": \"멕시코시티의 현재 기온은 얼마인가?\", \"output\": \"현재 멕시코시티의 기온은 약 20도입니다.\"},\n",
        "        {\"instruction\": \"바르셀로나의 현재 기온은 얼마인가?\", \"output\": \"현재 바르셀로나의 기온은 약 19도입니다.\"},\n",
        "        {\"instruction\": \"이스탄불의 현재 기온은 얼마인가?\", \"output\": \"현재 이스탄불의 기온은 약 17도입니다.\"},\n",
        "        {\"instruction\": \"뭄바이의 현재 기온은 얼마인가?\", \"output\": \"현재 뭄바이의 기온은 약 29도입니다.\"},\n",
        "        {\"instruction\": \"뉴델리의 현재 기온은 얼마인가?\", \"output\": \"현재 뉴델리의 기온은 약 32도입니다.\"},\n",
        "        {\"instruction\": \"방콕의 현재 기온은 얼마인가?\", \"output\": \"현재 방콕의 기온은 약 35도입니다.\"},\n",
        "        {\"instruction\": \"쿠알라룸푸르의 현재 기온은 얼마인가?\", \"output\": \"현재 쿠알라룸푸르의 기온은 약 31도입니다.\"},\n",
        "        {\"instruction\": \"하노이의 현재 기온은 얼마인가?\", \"output\": \"현재 하노이의 기온은 약 28도입니다.\"},\n",
        "        {\"instruction\": \"자카르타의 현재 기온은 얼마인가?\", \"output\": \"현재 자카르타의 기온은 약 30도입니다.\"},\n",
        "        {\"instruction\": \"싱가포르의 현재 기온은 얼마인가?\", \"output\": \"현재 싱가포르의 기온은 약 32도입니다.\"},\n",
        "        {\"instruction\": \"리마의 현재 기온은 얼마인가?\", \"output\": \"현재 리마의 기온은 약 20도입니다.\"},\n",
        "        {\"instruction\": \"카라카스의 현재 기온은 얼마인가?\", \"output\": \"현재 카라카스의 기온은 약 27도입니다.\"},\n",
        "        {\"instruction\": \"산티아고의 현재 기온은 얼마인가?\", \"output\": \"현재 산티아고의 기온은 약 22도입니다.\"},\n",
        "        {\"instruction\": \"케이프타운의 현재 기온은 얼마인가?\", \"output\": \"현재 케이프타운의 기온은 약 18도입니다.\"},\n",
        "        {\"instruction\": \"오타와의 현재 기온은 얼마인가?\", \"output\": \"현재 오타와의 기온은 약 8도입니다.\"},\n",
        "        {\"instruction\": \"토론토의 현재 기온은 얼마인가?\", \"output\": \"현재 토론토의 기온은 약 10도입니다.\"},\n",
        "        {\"instruction\": \"밴쿠버의 현재 기온은 얼마인가?\", \"output\": \"현재 밴쿠버의 기온은 약 12도입니다.\"},\n",
        "        {\"instruction\": \"로스앤젤레스의 현재 기온은 얼마인가?\", \"output\": \"현재 로스앤젤레스의 기온은 약 26도입니다.\"},\n",
        "        {\"instruction\": \"시카고의 현재 기온은 얼마인가?\", \"output\": \"현재 시카고의 기온은 약 16도입니다.\"},\n",
        "        {\"instruction\": \"마이애미의 현재 기온은 얼마인가?\", \"output\": \"현재 마이애미의 기온은 약 29도입니다.\"},\n",
        "        {\"instruction\": \"워싱턴 D.C.의 현재 기온은 얼마인가?\", \"output\": \"현재 워싱턴 D.C.의 기온은 약 20도입니다.\"},\n",
        "        {\"instruction\": \"산프란시스코의 현재 기온은 얼마인가?\", \"output\": \"현재 산프란시스코의 기온은 약 18도입니다.\"},\n",
        "        {\"instruction\": \"라스베이거스의 현재 기온은 얼마인가?\", \"output\": \"현재 라스베이거스의 기온은 약 33도입니다.\"},\n",
        "        {\"instruction\": \"휴스턴의 현재 기온은 얼마인가?\", \"output\": \"현재 휴스턴의 기온은 약 28도입니다.\"},\n",
        "        {\"instruction\": \"댈러스의 현재 기온은 얼마인가?\", \"output\": \"현재 댈러스의 기온은 약 27도입니다.\"},\n",
        "        {\"instruction\": \"시애틀의 현재 기온은 얼마인가?\", \"output\": \"현재 시애틀의 기온은 약 13도입니다.\"},\n",
        "        {\"instruction\": \"포틀랜드의 현재 기온은 얼마인가?\", \"output\": \"현재 포틀랜드의 기온은 약 14도입니다.\"},\n",
        "        {\"instruction\": \"아틀란타의 현재 기온은 얼마인가?\", \"output\": \"현재 아틀란타의 기온은 약 22도입니다.\"},\n",
        "        {\"instruction\": \"오슬로의 현재 기온은 얼마인가?\", \"output\": \"현재 오슬로의 기온은 약 7도입니다.\"},\n",
        "        {\"instruction\": \"헬싱키의 현재 기온은 얼마인가?\", \"output\": \"현재 헬싱키의 기온은 약 5도입니다.\"},\n",
        "        {\"instruction\": \"스톡홀름의 현재 기온은 얼마인가?\", \"output\": \"현재 스톡홀름의 기온은 약 8도입니다.\"},\n",
        "        {\"instruction\": \"코펜하겐의 현재 기온은 얼마인가?\", \"output\": \"현재 코펜하겐의 기온은 약 9도입니다.\"}\n",
        "    ]\n",
        "}\n"
      ],
      "metadata": {
        "id": "bXRcLJGCRiyX"
      },
      "execution_count": 3,
      "outputs": []
    },
    {
      "cell_type": "code",
      "source": [
        "# dataset ={\n",
        "#     \"train\": [\n",
        "#         {\n",
        "#             \"instruction\": \"방콕의 현재 기온은 어떻게 되나요?\",\n",
        "#             \"output\": \"방콕의 현재 기온은 약 28°C입니다.\"\n",
        "#         },\n",
        "#         {\n",
        "#             \"instruction\": \"부에노스아이레스의 현재 기온은 어떻게 되나요?\",\n",
        "#             \"output\": \"부에노스아이레스의 현재 기온은 약 28°C입니다.\"\n",
        "#         },\n",
        "#         {\n",
        "#             \"instruction\": \"델리의 현재 기온은 어떻게 되나요?\",\n",
        "#             \"output\": \"델리의 현재 기온은 약 10°C입니다.\"\n",
        "#         },\n",
        "#         {\n",
        "#             \"instruction\": \"이스탄불의 현재 기온은 어떻게 되나요?\",\n",
        "#             \"output\": \"이스탄불의 현재 기온은 약 13°C입니다.\"\n",
        "#         },\n",
        "#         {\n",
        "#             \"instruction\": \"자카르타의 현재 기온은 어떻게 되나요?\",\n",
        "#             \"output\": \"자카르타의 현재 기온은 약 30°C입니다.\"\n",
        "#         },\n",
        "#         {\n",
        "#             \"instruction\": \"멕시코시티의 현재 기온은 어떻게 되나요?\",\n",
        "#             \"output\": \"멕시코시티의 현재 기온은 약 15°C입니다.\"\n",
        "#         },\n",
        "#         {\n",
        "#             \"instruction\": \"모스크바의 현재 기온은 어떻게 되나요?\",\n",
        "#             \"output\": \"모스크바의 현재 기온은 약 -12°C입니다.\"\n",
        "#         },\n",
        "#         {\n",
        "#             \"instruction\": \"상파울루의 현재 기온은 어떻게 되나요?\",\n",
        "#             \"output\": \"상파울루의 현재 기온은 약 27°C입니다.\"\n",
        "#         },\n",
        "#         {\n",
        "#             \"instruction\": \"상하이의 현재 기온은 어떻게 되나요?\",\n",
        "#             \"output\": \"상하이의 현재 기온은 약 14°C입니다.\"\n",
        "#         },\n",
        "#         {\n",
        "#             \"instruction\": \"토론토의 현재 기온은 어떻게 되나요?\",\n",
        "#             \"output\": \"토론토의 현재 기온은 약 2°C입니다.\"\n",
        "#         },\n",
        "#         {\n",
        "#             \"instruction\": \"방콕의 현재 기온은 어떻게 되나요?\",\n",
        "#             \"output\": \"방콕의 현재 기온은 82°F입니다.\"\n",
        "#         },\n",
        "#         {\n",
        "#             \"instruction\": \"부에노스아이레스의 현재 기온은 어떻게 되나요?\",\n",
        "#             \"output\": \"부에노스아이레스의 현재 기온은 82°F입니다.\"\n",
        "#         },\n",
        "#         {\n",
        "#             \"instruction\": \"델리의 현재 기온은 어떻게 되나요?\",\n",
        "#             \"output\": \"델리의 현재 기온은 50°F입니다.\"\n",
        "#         },\n",
        "#         {\n",
        "#             \"instruction\": \"이스탄불의 현재 기온은 어떻게 되나요?\",\n",
        "#             \"output\": \"이스탄불의 현재 기온은 55°F입니다.\"\n",
        "#         },\n",
        "#         {\n",
        "#             \"instruction\": \"자카르타의 현재 기온은 어떻게 되나요?\",\n",
        "#             \"output\": \"자카르타의 현재 기온은 86°F입니다.\"\n",
        "#         },\n",
        "#         {\n",
        "#             \"instruction\": \"멕시코시티의 현재 기온은 어떻게 되나요?\",\n",
        "#             \"output\": \"멕시코시티의 현재 기온은 59°F입니다.\"\n",
        "#         },\n",
        "#         {\n",
        "#             \"instruction\": \"모스크바의 현재 기온은 어떻게 되나요?\",\n",
        "#             \"output\": \"모스크바의 현재 기온은 11°F입니다.\"\n",
        "#         },\n",
        "#         {\n",
        "#             \"instruction\": \"상파울루의 현재 기온은 어떻게 되나요?\",\n",
        "#             \"output\": \"상파울루의 현재 기온은 81°F입니다.\"\n",
        "#         },\n",
        "#         {\n",
        "#             \"instruction\": \"상하이의 현재 기온은 어떻게 되나요?\",\n",
        "#             \"output\": \"상하이의 현재 기온은 57°F입니다.\"\n",
        "#         },\n",
        "#         {\n",
        "#             \"instruction\": \"토론토의 현재 기온은 어떻게 되나요?\",\n",
        "#             \"output\": \"토론토의 현재 기온은 36°F입니다.\"\n",
        "#         }\n",
        "#     ]\n",
        "# }"
      ],
      "metadata": {
        "id": "EsLnKBbJHUr0"
      },
      "execution_count": null,
      "outputs": []
    },
    {
      "cell_type": "markdown",
      "source": [
        "# 학습데이터 생성"
      ],
      "metadata": {
        "id": "Ex_wxluuGNjt"
      }
    },
    {
      "cell_type": "code",
      "source": [
        "import json\n",
        "\n",
        "list_message = []\n",
        "num_data = len(dataset[\"train\"])  # 데이터셋의 길이를 사용\n",
        "\n",
        "for i in range(num_data):\n",
        "    instruction = dataset[\"train\"][i][\"instruction\"]\n",
        "    output = dataset[\"train\"][i][\"output\"]\n",
        "    print(\"질문:\", instruction)\n",
        "    print(\"답변:\", output)\n",
        "    message = [\n",
        "        {\"role\": \"user\", \"content\": instruction},\n",
        "        {\"role\": \"assistant\", \"content\": output},\n",
        "    ]\n",
        "    list_message.append(message)"
      ],
      "metadata": {
        "id": "eTnCCUsslAlH"
      },
      "execution_count": null,
      "outputs": []
    },
    {
      "cell_type": "code",
      "source": [
        "\n",
        "\n",
        "with open(\"output1.jsonl\", \"w\") as file:\n",
        "    for messages in list_message:\n",
        "        json_line = json.dumps({\"messages\": messages})\n",
        "        file.write(json_line + '\\n')"
      ],
      "metadata": {
        "id": "nO9wae5lSR_8"
      },
      "execution_count": 5,
      "outputs": []
    },
    {
      "cell_type": "markdown",
      "source": [
        "# jsonl파일 업로드"
      ],
      "metadata": {
        "id": "n9JhMeALJlAU"
      }
    },
    {
      "cell_type": "code",
      "source": [
        "import openai\n",
        "\n",
        "upload_file = openai.File.create(\n",
        "  file=open(\"output1.jsonl\", \"rb\"),\n",
        "  purpose='fine-tune'\n",
        ")"
      ],
      "metadata": {
        "id": "TX6gK0QnKhpH"
      },
      "execution_count": 6,
      "outputs": []
    },
    {
      "cell_type": "code",
      "source": [
        "\n",
        "try:\n",
        "    upload_file = openai.File.retrieve(\"file-Kf65ErKUf4N61wPJyW5udeQE\")\n",
        "    print(upload_file)\n",
        "except openai.error.InvalidRequestError as e:\n",
        "    print(\"Error occurred:\", e)\n",
        "\n"
      ],
      "metadata": {
        "id": "7CO4cxXPlfqY",
        "colab": {
          "base_uri": "https://localhost:8080/"
        },
        "outputId": "58496541-7fb7-475b-c6aa-a4460d7b9c7e"
      },
      "execution_count": 7,
      "outputs": [
        {
          "output_type": "stream",
          "name": "stdout",
          "text": [
            "{\n",
            "  \"object\": \"file\",\n",
            "  \"id\": \"file-Kf65ErKUf4N61wPJyW5udeQE\",\n",
            "  \"purpose\": \"fine-tune\",\n",
            "  \"filename\": \"file\",\n",
            "  \"bytes\": 13079,\n",
            "  \"created_at\": 1728645317,\n",
            "  \"status\": \"processed\",\n",
            "  \"status_details\": null\n",
            "}\n"
          ]
        }
      ]
    },
    {
      "cell_type": "markdown",
      "source": [
        "# 모델 학습"
      ],
      "metadata": {
        "id": "QviKVXnOGD6m"
      }
    },
    {
      "cell_type": "code",
      "source": [
        "start_train = openai.FineTuningJob.create(training_file=upload_file[\"id\"],model=\"gpt-3.5-turbo\")"
      ],
      "metadata": {
        "id": "zHoOsgszRxBX"
      },
      "execution_count": 8,
      "outputs": []
    },
    {
      "cell_type": "code",
      "source": [
        "# upload_file의 상태 확인\n",
        "upload_file = openai.File.retrieve(\"file-Kf65ErKUf4N61wPJyW5udeQE\")\n",
        "print(upload_file)"
      ],
      "metadata": {
        "id": "AhmYmO-2x1-V",
        "colab": {
          "base_uri": "https://localhost:8080/"
        },
        "outputId": "95ef5054-0cc1-4f51-9a66-1cbdbe12cdaa"
      },
      "execution_count": 9,
      "outputs": [
        {
          "output_type": "stream",
          "name": "stdout",
          "text": [
            "{\n",
            "  \"object\": \"file\",\n",
            "  \"id\": \"file-Kf65ErKUf4N61wPJyW5udeQE\",\n",
            "  \"purpose\": \"fine-tune\",\n",
            "  \"filename\": \"file\",\n",
            "  \"bytes\": 13079,\n",
            "  \"created_at\": 1728645317,\n",
            "  \"status\": \"processed\",\n",
            "  \"status_details\": null\n",
            "}\n"
          ]
        }
      ]
    },
    {
      "cell_type": "code",
      "source": [
        "start_train = openai.FineTuningJob.create(\n",
        "    training_file=\"file-Kf65ErKUf4N61wPJyW5udeQE\",\n",
        "    model=\"gpt-3.5-turbo\",\n",
        "    # n_epochs=2,\n",
        "    # batch_size=2,\n",
        "    # learning_rate_multiplier=0.02\n",
        ")"
      ],
      "metadata": {
        "id": "pKKZcJlwynto"
      },
      "execution_count": null,
      "outputs": []
    },
    {
      "cell_type": "code",
      "source": [
        "# Fine-tuning 작업 상태 확인\n",
        "status = openai.FineTuningJob.list(limit=10)\n",
        "status[\"data\"][1]"
      ],
      "metadata": {
        "id": "YD_wWa56JioG",
        "colab": {
          "base_uri": "https://localhost:8080/"
        },
        "outputId": "01e978c3-63c5-4ba6-de4a-512e33b8520a"
      },
      "execution_count": 19,
      "outputs": [
        {
          "output_type": "execute_result",
          "data": {
            "text/plain": [
              "<FineTuningJob fine_tuning.job id=ftjob-tTrZgiQRiWqZfMl1Hhf5tgQy at 0x7bb457de4400> JSON: {\n",
              "  \"object\": \"fine_tuning.job\",\n",
              "  \"id\": \"ftjob-tTrZgiQRiWqZfMl1Hhf5tgQy\",\n",
              "  \"model\": \"gpt-3.5-turbo-0125\",\n",
              "  \"created_at\": 1728646551,\n",
              "  \"finished_at\": null,\n",
              "  \"fine_tuned_model\": null,\n",
              "  \"organization_id\": \"org-mwdEU4co3GnsGgGTfEKk4CyS\",\n",
              "  \"result_files\": [],\n",
              "  \"status\": \"running\",\n",
              "  \"validation_file\": null,\n",
              "  \"training_file\": \"file-Kf65ErKUf4N61wPJyW5udeQE\",\n",
              "  \"hyperparameters\": {\n",
              "    \"n_epochs\": 3,\n",
              "    \"batch_size\": 1,\n",
              "    \"learning_rate_multiplier\": 2\n",
              "  },\n",
              "  \"trained_tokens\": null,\n",
              "  \"error\": {},\n",
              "  \"user_provided_suffix\": null,\n",
              "  \"seed\": 1892648079,\n",
              "  \"estimated_finish\": 1728646921,\n",
              "  \"integrations\": []\n",
              "}"
            ]
          },
          "metadata": {},
          "execution_count": 19
        }
      ]
    },
    {
      "cell_type": "code",
      "source": [
        "# 모델 이름 얻기\n",
        "fine_tuned_model = status[\"data\"][3][\"fine_tuned_model\"]\n",
        "print(fine_tuned_model)"
      ],
      "metadata": {
        "id": "h5q_gKNmzEdG",
        "colab": {
          "base_uri": "https://localhost:8080/"
        },
        "outputId": "4eada047-f7d0-47ce-f416-98acadb3e6c7"
      },
      "execution_count": 32,
      "outputs": [
        {
          "output_type": "stream",
          "name": "stdout",
          "text": [
            "ft:gpt-3.5-turbo-0125:shinkisa::AH89Rc8C\n"
          ]
        }
      ]
    },
    {
      "cell_type": "code",
      "source": [
        "completion = openai.ChatCompletion.create(\n",
        "    model=\"ft:gpt-3.5-turbo-0125:shinkisa::AH89Rc8C\",  # or the model you are using\n",
        "    messages=[\n",
        "        {\"role\": \"user\", \"content\": \"델리의 현재 기온은 어떻게 되나요?\"}\n",
        "    ]\n",
        ")\n"
      ],
      "metadata": {
        "id": "gk1OMV_ZbLYC"
      },
      "execution_count": 34,
      "outputs": []
    },
    {
      "cell_type": "code",
      "source": [
        "completion.choices[0].message[\"content\"]"
      ],
      "metadata": {
        "id": "4BKeRXuwbPFZ",
        "outputId": "923b98ce-4ae0-4870-de4b-380dddceac60",
        "colab": {
          "base_uri": "https://localhost:8080/",
          "height": 35
        }
      },
      "execution_count": 35,
      "outputs": [
        {
          "output_type": "execute_result",
          "data": {
            "text/plain": [
              "'현재 델리의 기온은 약 32도입니다.'"
            ],
            "application/vnd.google.colaboratory.intrinsic+json": {
              "type": "string"
            }
          },
          "metadata": {},
          "execution_count": 35
        }
      ]
    },
    {
      "cell_type": "code",
      "source": [
        "print(completion.choices[0].message[\"content\"])"
      ],
      "metadata": {
        "id": "FFuRGtjyJhbr",
        "colab": {
          "base_uri": "https://localhost:8080/"
        },
        "outputId": "7b9f9261-c0a8-4df2-dee5-60a61c169130"
      },
      "execution_count": 22,
      "outputs": [
        {
          "output_type": "stream",
          "name": "stdout",
          "text": [
            "델리의 현재 기온은 50°F입니다.\n"
          ]
        }
      ]
    },
    {
      "cell_type": "code",
      "source": [],
      "metadata": {
        "id": "F1srrPcXGICS"
      },
      "execution_count": null,
      "outputs": []
    }
  ]
}