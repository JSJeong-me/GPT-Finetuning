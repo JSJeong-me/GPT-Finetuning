{
  "nbformat": 4,
  "nbformat_minor": 0,
  "metadata": {
    "colab": {
      "provenance": [],
      "gpuType": "T4",
      "include_colab_link": true
    },
    "kernelspec": {
      "name": "python3",
      "display_name": "Python 3"
    },
    "language_info": {
      "name": "python"
    },
    "accelerator": "GPU"
  },
  "cells": [
    {
      "cell_type": "markdown",
      "metadata": {
        "id": "view-in-github",
        "colab_type": "text"
      },
      "source": [
        "<a href=\"https://colab.research.google.com/github/JSJeong-me/GPT-Finetuning/blob/main/40-OpenAI_Finetuning.ipynb\" target=\"_parent\"><img src=\"https://colab.research.google.com/assets/colab-badge.svg\" alt=\"Open In Colab\"/></a>"
      ]
    },
    {
      "cell_type": "code",
      "source": [
        "!pip install openai==0.28\n",
        "!pip install datasets"
      ],
      "metadata": {
        "id": "1judd9krSiFG",
        "colab": {
          "base_uri": "https://localhost:8080/"
        },
        "outputId": "29f9dbb8-8326-4867-a34c-857ab31ecd53"
      },
      "execution_count": 1,
      "outputs": [
        {
          "output_type": "stream",
          "name": "stdout",
          "text": [
            "Collecting openai==0.28\n",
            "  Downloading openai-0.28.0-py3-none-any.whl.metadata (13 kB)\n",
            "Requirement already satisfied: requests>=2.20 in /usr/local/lib/python3.10/dist-packages (from openai==0.28) (2.32.3)\n",
            "Requirement already satisfied: tqdm in /usr/local/lib/python3.10/dist-packages (from openai==0.28) (4.66.5)\n",
            "Requirement already satisfied: aiohttp in /usr/local/lib/python3.10/dist-packages (from openai==0.28) (3.10.9)\n",
            "Requirement already satisfied: charset-normalizer<4,>=2 in /usr/local/lib/python3.10/dist-packages (from requests>=2.20->openai==0.28) (3.3.2)\n",
            "Requirement already satisfied: idna<4,>=2.5 in /usr/local/lib/python3.10/dist-packages (from requests>=2.20->openai==0.28) (3.10)\n",
            "Requirement already satisfied: urllib3<3,>=1.21.1 in /usr/local/lib/python3.10/dist-packages (from requests>=2.20->openai==0.28) (2.2.3)\n",
            "Requirement already satisfied: certifi>=2017.4.17 in /usr/local/lib/python3.10/dist-packages (from requests>=2.20->openai==0.28) (2024.8.30)\n",
            "Requirement already satisfied: aiohappyeyeballs>=2.3.0 in /usr/local/lib/python3.10/dist-packages (from aiohttp->openai==0.28) (2.4.3)\n",
            "Requirement already satisfied: aiosignal>=1.1.2 in /usr/local/lib/python3.10/dist-packages (from aiohttp->openai==0.28) (1.3.1)\n",
            "Requirement already satisfied: attrs>=17.3.0 in /usr/local/lib/python3.10/dist-packages (from aiohttp->openai==0.28) (24.2.0)\n",
            "Requirement already satisfied: frozenlist>=1.1.1 in /usr/local/lib/python3.10/dist-packages (from aiohttp->openai==0.28) (1.4.1)\n",
            "Requirement already satisfied: multidict<7.0,>=4.5 in /usr/local/lib/python3.10/dist-packages (from aiohttp->openai==0.28) (6.1.0)\n",
            "Requirement already satisfied: yarl<2.0,>=1.12.0 in /usr/local/lib/python3.10/dist-packages (from aiohttp->openai==0.28) (1.13.1)\n",
            "Requirement already satisfied: async-timeout<5.0,>=4.0 in /usr/local/lib/python3.10/dist-packages (from aiohttp->openai==0.28) (4.0.3)\n",
            "Requirement already satisfied: typing-extensions>=4.1.0 in /usr/local/lib/python3.10/dist-packages (from multidict<7.0,>=4.5->aiohttp->openai==0.28) (4.12.2)\n",
            "Downloading openai-0.28.0-py3-none-any.whl (76 kB)\n",
            "\u001b[2K   \u001b[90m━━━━━━━━━━━━━━━━━━━━━━━━━━━━━━━━━━━━━━━━\u001b[0m \u001b[32m76.5/76.5 kB\u001b[0m \u001b[31m4.3 MB/s\u001b[0m eta \u001b[36m0:00:00\u001b[0m\n",
            "\u001b[?25hInstalling collected packages: openai\n",
            "Successfully installed openai-0.28.0\n",
            "Collecting datasets\n",
            "  Downloading datasets-3.0.1-py3-none-any.whl.metadata (20 kB)\n",
            "Requirement already satisfied: filelock in /usr/local/lib/python3.10/dist-packages (from datasets) (3.16.1)\n",
            "Requirement already satisfied: numpy>=1.17 in /usr/local/lib/python3.10/dist-packages (from datasets) (1.26.4)\n",
            "Requirement already satisfied: pyarrow>=15.0.0 in /usr/local/lib/python3.10/dist-packages (from datasets) (16.1.0)\n",
            "Collecting dill<0.3.9,>=0.3.0 (from datasets)\n",
            "  Downloading dill-0.3.8-py3-none-any.whl.metadata (10 kB)\n",
            "Requirement already satisfied: pandas in /usr/local/lib/python3.10/dist-packages (from datasets) (2.2.2)\n",
            "Requirement already satisfied: requests>=2.32.2 in /usr/local/lib/python3.10/dist-packages (from datasets) (2.32.3)\n",
            "Requirement already satisfied: tqdm>=4.66.3 in /usr/local/lib/python3.10/dist-packages (from datasets) (4.66.5)\n",
            "Collecting xxhash (from datasets)\n",
            "  Downloading xxhash-3.5.0-cp310-cp310-manylinux_2_17_x86_64.manylinux2014_x86_64.whl.metadata (12 kB)\n",
            "Collecting multiprocess (from datasets)\n",
            "  Downloading multiprocess-0.70.17-py310-none-any.whl.metadata (7.2 kB)\n",
            "Requirement already satisfied: fsspec<=2024.6.1,>=2023.1.0 in /usr/local/lib/python3.10/dist-packages (from fsspec[http]<=2024.6.1,>=2023.1.0->datasets) (2024.6.1)\n",
            "Requirement already satisfied: aiohttp in /usr/local/lib/python3.10/dist-packages (from datasets) (3.10.9)\n",
            "Requirement already satisfied: huggingface-hub>=0.22.0 in /usr/local/lib/python3.10/dist-packages (from datasets) (0.24.7)\n",
            "Requirement already satisfied: packaging in /usr/local/lib/python3.10/dist-packages (from datasets) (24.1)\n",
            "Requirement already satisfied: pyyaml>=5.1 in /usr/local/lib/python3.10/dist-packages (from datasets) (6.0.2)\n",
            "Requirement already satisfied: aiohappyeyeballs>=2.3.0 in /usr/local/lib/python3.10/dist-packages (from aiohttp->datasets) (2.4.3)\n",
            "Requirement already satisfied: aiosignal>=1.1.2 in /usr/local/lib/python3.10/dist-packages (from aiohttp->datasets) (1.3.1)\n",
            "Requirement already satisfied: attrs>=17.3.0 in /usr/local/lib/python3.10/dist-packages (from aiohttp->datasets) (24.2.0)\n",
            "Requirement already satisfied: frozenlist>=1.1.1 in /usr/local/lib/python3.10/dist-packages (from aiohttp->datasets) (1.4.1)\n",
            "Requirement already satisfied: multidict<7.0,>=4.5 in /usr/local/lib/python3.10/dist-packages (from aiohttp->datasets) (6.1.0)\n",
            "Requirement already satisfied: yarl<2.0,>=1.12.0 in /usr/local/lib/python3.10/dist-packages (from aiohttp->datasets) (1.13.1)\n",
            "Requirement already satisfied: async-timeout<5.0,>=4.0 in /usr/local/lib/python3.10/dist-packages (from aiohttp->datasets) (4.0.3)\n",
            "Requirement already satisfied: typing-extensions>=3.7.4.3 in /usr/local/lib/python3.10/dist-packages (from huggingface-hub>=0.22.0->datasets) (4.12.2)\n",
            "Requirement already satisfied: charset-normalizer<4,>=2 in /usr/local/lib/python3.10/dist-packages (from requests>=2.32.2->datasets) (3.3.2)\n",
            "Requirement already satisfied: idna<4,>=2.5 in /usr/local/lib/python3.10/dist-packages (from requests>=2.32.2->datasets) (3.10)\n",
            "Requirement already satisfied: urllib3<3,>=1.21.1 in /usr/local/lib/python3.10/dist-packages (from requests>=2.32.2->datasets) (2.2.3)\n",
            "Requirement already satisfied: certifi>=2017.4.17 in /usr/local/lib/python3.10/dist-packages (from requests>=2.32.2->datasets) (2024.8.30)\n",
            "INFO: pip is looking at multiple versions of multiprocess to determine which version is compatible with other requirements. This could take a while.\n",
            "  Downloading multiprocess-0.70.16-py310-none-any.whl.metadata (7.2 kB)\n",
            "Requirement already satisfied: python-dateutil>=2.8.2 in /usr/local/lib/python3.10/dist-packages (from pandas->datasets) (2.8.2)\n",
            "Requirement already satisfied: pytz>=2020.1 in /usr/local/lib/python3.10/dist-packages (from pandas->datasets) (2024.2)\n",
            "Requirement already satisfied: tzdata>=2022.7 in /usr/local/lib/python3.10/dist-packages (from pandas->datasets) (2024.2)\n",
            "Requirement already satisfied: six>=1.5 in /usr/local/lib/python3.10/dist-packages (from python-dateutil>=2.8.2->pandas->datasets) (1.16.0)\n",
            "Downloading datasets-3.0.1-py3-none-any.whl (471 kB)\n",
            "\u001b[2K   \u001b[90m━━━━━━━━━━━━━━━━━━━━━━━━━━━━━━━━━━━━━━━━\u001b[0m \u001b[32m471.6/471.6 kB\u001b[0m \u001b[31m14.6 MB/s\u001b[0m eta \u001b[36m0:00:00\u001b[0m\n",
            "\u001b[?25hDownloading dill-0.3.8-py3-none-any.whl (116 kB)\n",
            "\u001b[2K   \u001b[90m━━━━━━━━━━━━━━━━━━━━━━━━━━━━━━━━━━━━━━━━\u001b[0m \u001b[32m116.3/116.3 kB\u001b[0m \u001b[31m9.7 MB/s\u001b[0m eta \u001b[36m0:00:00\u001b[0m\n",
            "\u001b[?25hDownloading multiprocess-0.70.16-py310-none-any.whl (134 kB)\n",
            "\u001b[2K   \u001b[90m━━━━━━━━━━━━━━━━━━━━━━━━━━━━━━━━━━━━━━━━\u001b[0m \u001b[32m134.8/134.8 kB\u001b[0m \u001b[31m10.7 MB/s\u001b[0m eta \u001b[36m0:00:00\u001b[0m\n",
            "\u001b[?25hDownloading xxhash-3.5.0-cp310-cp310-manylinux_2_17_x86_64.manylinux2014_x86_64.whl (194 kB)\n",
            "\u001b[2K   \u001b[90m━━━━━━━━━━━━━━━━━━━━━━━━━━━━━━━━━━━━━━━━\u001b[0m \u001b[32m194.1/194.1 kB\u001b[0m \u001b[31m7.0 MB/s\u001b[0m eta \u001b[36m0:00:00\u001b[0m\n",
            "\u001b[?25hInstalling collected packages: xxhash, dill, multiprocess, datasets\n",
            "Successfully installed datasets-3.0.1 dill-0.3.8 multiprocess-0.70.16 xxhash-3.5.0\n"
          ]
        }
      ]
    },
    {
      "cell_type": "markdown",
      "source": [
        "# OpenAI API Key 설정"
      ],
      "metadata": {
        "id": "RfTT7awXHSA1"
      }
    },
    {
      "cell_type": "code",
      "source": [
        "from google.colab import userdata\n",
        "import os\n",
        "\n",
        "os.environ[\"OPENAI_API_KEY\"] = userdata.get('OPENAI_API_KEY')\n",
        "api_key = os.getenv(\"OPENAI_API_KEY\")"
      ],
      "metadata": {
        "id": "3pL06p-wkCzV"
      },
      "execution_count": 3,
      "outputs": []
    },
    {
      "cell_type": "markdown",
      "source": [
        "# 학습 데이터의 준비"
      ],
      "metadata": {
        "id": "LUvwgw7lvLhj"
      }
    },
    {
      "cell_type": "code",
      "source": [
        "dataset ={\n",
        "    \"train\": [\n",
        "        {\n",
        "            \"instruction\": \"방콕의 현재 기온은 어떻게 되나요?\",\n",
        "            \"output\": \"방콕의 현재 기온은 약 28°C입니다.\"\n",
        "        },\n",
        "        {\n",
        "            \"instruction\": \"부에노스아이레스의 현재 기온은 어떻게 되나요?\",\n",
        "            \"output\": \"부에노스아이레스의 현재 기온은 약 28°C입니다.\"\n",
        "        },\n",
        "        {\n",
        "            \"instruction\": \"델리의 현재 기온은 어떻게 되나요?\",\n",
        "            \"output\": \"델리의 현재 기온은 약 10°C입니다.\"\n",
        "        },\n",
        "        {\n",
        "            \"instruction\": \"이스탄불의 현재 기온은 어떻게 되나요?\",\n",
        "            \"output\": \"이스탄불의 현재 기온은 약 13°C입니다.\"\n",
        "        },\n",
        "        {\n",
        "            \"instruction\": \"자카르타의 현재 기온은 어떻게 되나요?\",\n",
        "            \"output\": \"자카르타의 현재 기온은 약 30°C입니다.\"\n",
        "        },\n",
        "        {\n",
        "            \"instruction\": \"멕시코시티의 현재 기온은 어떻게 되나요?\",\n",
        "            \"output\": \"멕시코시티의 현재 기온은 약 15°C입니다.\"\n",
        "        },\n",
        "        {\n",
        "            \"instruction\": \"모스크바의 현재 기온은 어떻게 되나요?\",\n",
        "            \"output\": \"모스크바의 현재 기온은 약 -12°C입니다.\"\n",
        "        },\n",
        "        {\n",
        "            \"instruction\": \"상파울루의 현재 기온은 어떻게 되나요?\",\n",
        "            \"output\": \"상파울루의 현재 기온은 약 27°C입니다.\"\n",
        "        },\n",
        "        {\n",
        "            \"instruction\": \"상하이의 현재 기온은 어떻게 되나요?\",\n",
        "            \"output\": \"상하이의 현재 기온은 약 14°C입니다.\"\n",
        "        },\n",
        "        {\n",
        "            \"instruction\": \"토론토의 현재 기온은 어떻게 되나요?\",\n",
        "            \"output\": \"토론토의 현재 기온은 약 2°C입니다.\"\n",
        "        },\n",
        "        {\n",
        "            \"instruction\": \"방콕의 현재 기온은 어떻게 되나요?\",\n",
        "            \"output\": \"방콕의 현재 기온은 82°F입니다.\"\n",
        "        },\n",
        "        {\n",
        "            \"instruction\": \"부에노스아이레스의 현재 기온은 어떻게 되나요?\",\n",
        "            \"output\": \"부에노스아이레스의 현재 기온은 82°F입니다.\"\n",
        "        },\n",
        "        {\n",
        "            \"instruction\": \"델리의 현재 기온은 어떻게 되나요?\",\n",
        "            \"output\": \"델리의 현재 기온은 50°F입니다.\"\n",
        "        },\n",
        "        {\n",
        "            \"instruction\": \"이스탄불의 현재 기온은 어떻게 되나요?\",\n",
        "            \"output\": \"이스탄불의 현재 기온은 55°F입니다.\"\n",
        "        },\n",
        "        {\n",
        "            \"instruction\": \"자카르타의 현재 기온은 어떻게 되나요?\",\n",
        "            \"output\": \"자카르타의 현재 기온은 86°F입니다.\"\n",
        "        },\n",
        "        {\n",
        "            \"instruction\": \"멕시코시티의 현재 기온은 어떻게 되나요?\",\n",
        "            \"output\": \"멕시코시티의 현재 기온은 59°F입니다.\"\n",
        "        },\n",
        "        {\n",
        "            \"instruction\": \"모스크바의 현재 기온은 어떻게 되나요?\",\n",
        "            \"output\": \"모스크바의 현재 기온은 11°F입니다.\"\n",
        "        },\n",
        "        {\n",
        "            \"instruction\": \"상파울루의 현재 기온은 어떻게 되나요?\",\n",
        "            \"output\": \"상파울루의 현재 기온은 81°F입니다.\"\n",
        "        },\n",
        "        {\n",
        "            \"instruction\": \"상하이의 현재 기온은 어떻게 되나요?\",\n",
        "            \"output\": \"상하이의 현재 기온은 57°F입니다.\"\n",
        "        },\n",
        "        {\n",
        "            \"instruction\": \"토론토의 현재 기온은 어떻게 되나요?\",\n",
        "            \"output\": \"토론토의 현재 기온은 36°F입니다.\"\n",
        "        }\n",
        "    ]\n",
        "}"
      ],
      "metadata": {
        "id": "EsLnKBbJHUr0"
      },
      "execution_count": 4,
      "outputs": []
    },
    {
      "cell_type": "markdown",
      "source": [
        "# 학습데이터 생성"
      ],
      "metadata": {
        "id": "Ex_wxluuGNjt"
      }
    },
    {
      "cell_type": "code",
      "source": [
        "import json\n",
        "\n",
        "list_message = []\n",
        "num_data = len(dataset[\"train\"])  # 데이터셋의 길이를 사용\n",
        "\n",
        "for i in range(num_data):\n",
        "    instruction = dataset[\"train\"][i][\"instruction\"]\n",
        "    output = dataset[\"train\"][i][\"output\"]\n",
        "    print(\"질문:\", instruction)\n",
        "    print(\"답변:\", output)\n",
        "    message = [\n",
        "        {\"role\": \"user\", \"content\": instruction},\n",
        "        {\"role\": \"assistant\", \"content\": output},\n",
        "    ]\n",
        "    list_message.append(message)\n",
        "\n",
        "with open(\"output1.jsonl\", \"w\") as file:\n",
        "    for messages in list_message:\n",
        "        json_line = json.dumps({\"messages\": messages})\n",
        "        file.write(json_line + '\\n')"
      ],
      "metadata": {
        "id": "eTnCCUsslAlH",
        "colab": {
          "base_uri": "https://localhost:8080/"
        },
        "outputId": "5530c381-4ff5-41dd-c356-4fc4820a29d8"
      },
      "execution_count": 5,
      "outputs": [
        {
          "output_type": "stream",
          "name": "stdout",
          "text": [
            "질문: 방콕의 현재 기온은 어떻게 되나요?\n",
            "답변: 방콕의 현재 기온은 약 28°C입니다.\n",
            "질문: 부에노스아이레스의 현재 기온은 어떻게 되나요?\n",
            "답변: 부에노스아이레스의 현재 기온은 약 28°C입니다.\n",
            "질문: 델리의 현재 기온은 어떻게 되나요?\n",
            "답변: 델리의 현재 기온은 약 10°C입니다.\n",
            "질문: 이스탄불의 현재 기온은 어떻게 되나요?\n",
            "답변: 이스탄불의 현재 기온은 약 13°C입니다.\n",
            "질문: 자카르타의 현재 기온은 어떻게 되나요?\n",
            "답변: 자카르타의 현재 기온은 약 30°C입니다.\n",
            "질문: 멕시코시티의 현재 기온은 어떻게 되나요?\n",
            "답변: 멕시코시티의 현재 기온은 약 15°C입니다.\n",
            "질문: 모스크바의 현재 기온은 어떻게 되나요?\n",
            "답변: 모스크바의 현재 기온은 약 -12°C입니다.\n",
            "질문: 상파울루의 현재 기온은 어떻게 되나요?\n",
            "답변: 상파울루의 현재 기온은 약 27°C입니다.\n",
            "질문: 상하이의 현재 기온은 어떻게 되나요?\n",
            "답변: 상하이의 현재 기온은 약 14°C입니다.\n",
            "질문: 토론토의 현재 기온은 어떻게 되나요?\n",
            "답변: 토론토의 현재 기온은 약 2°C입니다.\n",
            "질문: 방콕의 현재 기온은 어떻게 되나요?\n",
            "답변: 방콕의 현재 기온은 82°F입니다.\n",
            "질문: 부에노스아이레스의 현재 기온은 어떻게 되나요?\n",
            "답변: 부에노스아이레스의 현재 기온은 82°F입니다.\n",
            "질문: 델리의 현재 기온은 어떻게 되나요?\n",
            "답변: 델리의 현재 기온은 50°F입니다.\n",
            "질문: 이스탄불의 현재 기온은 어떻게 되나요?\n",
            "답변: 이스탄불의 현재 기온은 55°F입니다.\n",
            "질문: 자카르타의 현재 기온은 어떻게 되나요?\n",
            "답변: 자카르타의 현재 기온은 86°F입니다.\n",
            "질문: 멕시코시티의 현재 기온은 어떻게 되나요?\n",
            "답변: 멕시코시티의 현재 기온은 59°F입니다.\n",
            "질문: 모스크바의 현재 기온은 어떻게 되나요?\n",
            "답변: 모스크바의 현재 기온은 11°F입니다.\n",
            "질문: 상파울루의 현재 기온은 어떻게 되나요?\n",
            "답변: 상파울루의 현재 기온은 81°F입니다.\n",
            "질문: 상하이의 현재 기온은 어떻게 되나요?\n",
            "답변: 상하이의 현재 기온은 57°F입니다.\n",
            "질문: 토론토의 현재 기온은 어떻게 되나요?\n",
            "답변: 토론토의 현재 기온은 36°F입니다.\n"
          ]
        }
      ]
    },
    {
      "cell_type": "markdown",
      "source": [
        "# jsonl파일 업로드"
      ],
      "metadata": {
        "id": "n9JhMeALJlAU"
      }
    },
    {
      "cell_type": "code",
      "source": [
        "import openai\n",
        "\n",
        "upload_file = openai.File.create(\n",
        "  file=open(\"output1.jsonl\", \"rb\"),\n",
        "  purpose='fine-tune'\n",
        ")"
      ],
      "metadata": {
        "id": "TX6gK0QnKhpH"
      },
      "execution_count": 6,
      "outputs": []
    },
    {
      "cell_type": "code",
      "source": [
        "\n",
        "try:\n",
        "    upload_file = openai.File.retrieve(\"file-upIfp2WeseJD3Nu78tWUOvEl\")\n",
        "    print(upload_file)\n",
        "except openai.error.InvalidRequestError as e:\n",
        "    print(\"Error occurred:\", e)\n",
        "\n"
      ],
      "metadata": {
        "id": "7CO4cxXPlfqY",
        "colab": {
          "base_uri": "https://localhost:8080/"
        },
        "outputId": "46874200-08a2-4885-f411-c520573d7813"
      },
      "execution_count": 7,
      "outputs": [
        {
          "output_type": "stream",
          "name": "stdout",
          "text": [
            "{\n",
            "  \"object\": \"file\",\n",
            "  \"id\": \"file-upIfp2WeseJD3Nu78tWUOvEl\",\n",
            "  \"purpose\": \"fine-tune\",\n",
            "  \"filename\": \"file\",\n",
            "  \"bytes\": 5606,\n",
            "  \"created_at\": 1728603200,\n",
            "  \"status\": \"processed\",\n",
            "  \"status_details\": null\n",
            "}\n"
          ]
        }
      ]
    },
    {
      "cell_type": "markdown",
      "source": [
        "# 모델 학습"
      ],
      "metadata": {
        "id": "QviKVXnOGD6m"
      }
    },
    {
      "cell_type": "code",
      "source": [
        "start_train = openai.FineTuningJob.create(training_file=upload_file[\"id\"],model=\"gpt-3.5-turbo\")"
      ],
      "metadata": {
        "id": "zHoOsgszRxBX"
      },
      "execution_count": 8,
      "outputs": []
    },
    {
      "cell_type": "code",
      "source": [
        "# upload_file의 상태 확인\n",
        "upload_file = openai.File.retrieve(\"file-upIfp2WeseJD3Nu78tWUOvEl\")\n",
        "print(upload_file)"
      ],
      "metadata": {
        "id": "AhmYmO-2x1-V",
        "colab": {
          "base_uri": "https://localhost:8080/"
        },
        "outputId": "cb46a4d1-a820-4867-c079-f10f97442a0e"
      },
      "execution_count": 9,
      "outputs": [
        {
          "output_type": "stream",
          "name": "stdout",
          "text": [
            "{\n",
            "  \"object\": \"file\",\n",
            "  \"id\": \"file-upIfp2WeseJD3Nu78tWUOvEl\",\n",
            "  \"purpose\": \"fine-tune\",\n",
            "  \"filename\": \"file\",\n",
            "  \"bytes\": 5606,\n",
            "  \"created_at\": 1728603200,\n",
            "  \"status\": \"processed\",\n",
            "  \"status_details\": null\n",
            "}\n"
          ]
        }
      ]
    },
    {
      "cell_type": "code",
      "source": [
        "start_train = openai.FineTuningJob.create(\n",
        "    training_file=\"file-upIfp2WeseJD3Nu78tWUOvEl\",\n",
        "    model=\"gpt-3.5-turbo\"\n",
        ")"
      ],
      "metadata": {
        "id": "pKKZcJlwynto"
      },
      "execution_count": 10,
      "outputs": []
    },
    {
      "cell_type": "code",
      "source": [
        "# Fine-tuning 작업 상태 확인\n",
        "status = openai.FineTuningJob.list(limit=10)\n",
        "status[\"data\"][0]"
      ],
      "metadata": {
        "id": "YD_wWa56JioG",
        "colab": {
          "base_uri": "https://localhost:8080/"
        },
        "outputId": "b607e14a-aaeb-4182-b8ee-a36246c54010"
      },
      "execution_count": 11,
      "outputs": [
        {
          "output_type": "execute_result",
          "data": {
            "text/plain": [
              "<FineTuningJob fine_tuning.job id=ftjob-C3kEF8IQmhGGHNhnJ5g1FsGp at 0x7eba5147a840> JSON: {\n",
              "  \"object\": \"fine_tuning.job\",\n",
              "  \"id\": \"ftjob-C3kEF8IQmhGGHNhnJ5g1FsGp\",\n",
              "  \"model\": \"gpt-3.5-turbo-0125\",\n",
              "  \"created_at\": 1728603420,\n",
              "  \"finished_at\": null,\n",
              "  \"fine_tuned_model\": null,\n",
              "  \"organization_id\": \"org-mwdEU4co3GnsGgGTfEKk4CyS\",\n",
              "  \"result_files\": [],\n",
              "  \"status\": \"validating_files\",\n",
              "  \"validation_file\": null,\n",
              "  \"training_file\": \"file-upIfp2WeseJD3Nu78tWUOvEl\",\n",
              "  \"hyperparameters\": {\n",
              "    \"n_epochs\": 5,\n",
              "    \"batch_size\": 1,\n",
              "    \"learning_rate_multiplier\": 2\n",
              "  },\n",
              "  \"trained_tokens\": null,\n",
              "  \"error\": {},\n",
              "  \"user_provided_suffix\": null,\n",
              "  \"seed\": 385141891,\n",
              "  \"estimated_finish\": null,\n",
              "  \"integrations\": []\n",
              "}"
            ]
          },
          "metadata": {},
          "execution_count": 11
        }
      ]
    },
    {
      "cell_type": "code",
      "source": [
        "# 모델 이름 얻기\n",
        "fine_tuned_model = status[\"data\"][-1][\"fine_tuned_model\"]\n",
        "print(fine_tuned_model)"
      ],
      "metadata": {
        "id": "h5q_gKNmzEdG",
        "colab": {
          "base_uri": "https://localhost:8080/"
        },
        "outputId": "ab40f63d-8758-43ff-8a8f-15ded91eada6"
      },
      "execution_count": 26,
      "outputs": [
        {
          "output_type": "stream",
          "name": "stdout",
          "text": [
            "ft:gpt-3.5-turbo-0125:shinkisa::9p6erlVw\n"
          ]
        }
      ]
    },
    {
      "cell_type": "code",
      "source": [
        "completion = openai.ChatCompletion.create(\n",
        "  model=status[\"data\"][-1][\"fine_tuned_model\"],\n",
        "  messages=[\n",
        "    {\"role\": \"user\", \"content\": \"델리의 현재 기온은 어떻게 되나요?\"}\n",
        "  ]\n",
        ")"
      ],
      "metadata": {
        "id": "2jefHfZhGGSt"
      },
      "execution_count": 23,
      "outputs": []
    },
    {
      "cell_type": "code",
      "source": [
        "print(completion.choices[0].message[\"content\"])"
      ],
      "metadata": {
        "id": "FFuRGtjyJhbr",
        "colab": {
          "base_uri": "https://localhost:8080/"
        },
        "outputId": "02e48821-109a-4363-ce76-bba0566d6ac6"
      },
      "execution_count": 24,
      "outputs": [
        {
          "output_type": "stream",
          "name": "stdout",
          "text": [
            "델리의 현재 기온은 약 31°C입니다.\n"
          ]
        }
      ]
    },
    {
      "cell_type": "code",
      "source": [],
      "metadata": {
        "id": "F1srrPcXGICS"
      },
      "execution_count": null,
      "outputs": []
    }
  ]
}